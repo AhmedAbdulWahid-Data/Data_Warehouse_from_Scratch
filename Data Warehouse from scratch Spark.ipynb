{
 "cells": [
  {
   "cell_type": "markdown",
   "metadata": {
    "application/vnd.databricks.v1+cell": {
     "cellMetadata": {},
     "inputWidgets": {},
     "nuid": "7836fa00-3815-4be8-b225-df0f7cfa7ec7",
     "showTitle": false,
     "tableResultSettingsMap": {},
     "title": ""
    }
   },
   "source": [
    "# PySpark Data Warehouse in Databricks By Ahmed Abdulwahid\n",
    "\n",
    "### 🔍 Overview\n",
    "\n",
    "This project builds a scalable data warehouse using PySpark in Databricks, enabling efficient data processing and analytics. 📊⚡\n",
    "\n",
    "### ❓ Why PySpark?\n",
    "\n",
    "Traditional SQL warehouses struggle with big data. 🏗️ PySpark solves this with distributed computing, ⚡ faster queries, and seamless scalability. 📈\n",
    "\n",
    "### 🎯 Objectives\n",
    "\n",
    "✅ Design a structured data warehouse with fact & dimension tables.\n",
    "✅ Use PySpark for ETL (Extract, Transform, Load) 🔄.\n",
    "✅ Optimize with Delta Lake, partitioning, and caching 🛠️.\n",
    "\n",
    "\n",
    "###🏆 Outcome\n",
    "\n",
    "A fast, scalable warehouse ready for big data analytics! 📊🔥\n",
    "\n"
   ]
  },
  {
   "cell_type": "markdown",
   "metadata": {
    "application/vnd.databricks.v1+cell": {
     "cellMetadata": {},
     "inputWidgets": {},
     "nuid": "f308b088-4285-4540-93e0-b49f8877562b",
     "showTitle": false,
     "tableResultSettingsMap": {},
     "title": ""
    }
   },
   "source": [
    "# Incremental Loading"
   ]
  },
  {
   "cell_type": "code",
   "execution_count": 0,
   "metadata": {
    "application/vnd.databricks.v1+cell": {
     "cellMetadata": {
      "byteLimit": 2048000,
      "rowLimit": 10000
     },
     "inputWidgets": {},
     "nuid": "f0100915-6606-4a6a-b1d5-cedfd0ac15db",
     "showTitle": false,
     "tableResultSettingsMap": {},
     "title": ""
    }
   },
   "outputs": [
    {
     "output_type": "display_data",
     "data": {
      "text/html": [
       "<style scoped>\n",
       "  .table-result-container {\n",
       "    max-height: 300px;\n",
       "    overflow: auto;\n",
       "  }\n",
       "  table, th, td {\n",
       "    border: 1px solid black;\n",
       "    border-collapse: collapse;\n",
       "  }\n",
       "  th, td {\n",
       "    padding: 5px;\n",
       "  }\n",
       "  th {\n",
       "    text-align: left;\n",
       "  }\n",
       "</style><div class='table-result-container'><table class='table-result'><thead style='background-color: white'><tr><th>OrderID</th><th>OrderDate</th><th>CustomerID</th><th>CustomerName</th><th>CustomerEmail</th><th>ProductID</th><th>ProductName</th><th>ProductCategory</th><th>RegionID</th><th>RegionName</th><th>Country</th><th>Quantity</th><th>UnitPrice</th><th>TotalAmount</th></tr></thead><tbody><tr><td>1</td><td>2025-03-01</td><td>201</td><td>John Doe</td><td>john.doe@example.com</td><td>301</td><td>Laptop</td><td>Electronics</td><td>401</td><td>North America</td><td>USA</td><td>2</td><td>900.00</td><td>1800.00</td></tr><tr><td>2</td><td>2025-03-02</td><td>202</td><td>Jane Smith</td><td>jane.smith@example.com</td><td>302</td><td>Smartphone</td><td>Electronics</td><td>402</td><td>Europe</td><td>Germany</td><td>1</td><td>600.00</td><td>600.00</td></tr><tr><td>3</td><td>2025-03-03</td><td>203</td><td>Robert Brown</td><td>robert.brown@example.com</td><td>303</td><td>Tablet</td><td>Electronics</td><td>403</td><td>Asia</td><td>India</td><td>3</td><td>350.00</td><td>1050.00</td></tr><tr><td>4</td><td>2025-03-04</td><td>201</td><td>John Doe</td><td>john.doe@example.com</td><td>304</td><td>Headphones</td><td>Accessories</td><td>401</td><td>North America</td><td>USA</td><td>1</td><td>120.00</td><td>120.00</td></tr><tr><td>5</td><td>2025-03-05</td><td>204</td><td>Emily Davis</td><td>emily.davis@example.com</td><td>305</td><td>Gaming Console</td><td>Electronics</td><td>402</td><td>Europe</td><td>France</td><td>1</td><td>500.00</td><td>500.00</td></tr><tr><td>6</td><td>2025-03-06</td><td>202</td><td>Jane Smith</td><td>jane.smith@example.com</td><td>306</td><td>Smartwatch</td><td>Electronics</td><td>403</td><td>Asia</td><td>China</td><td>2</td><td>250.00</td><td>500.00</td></tr><tr><td>7</td><td>2025-03-07</td><td>205</td><td>Michael Wilson</td><td>michael.wilson@example.com</td><td>301</td><td>Laptop</td><td>Electronics</td><td>401</td><td>North America</td><td>Canada</td><td>1</td><td>900.00</td><td>900.00</td></tr><tr><td>8</td><td>2025-03-08</td><td>206</td><td>Sarah Johnson</td><td>sarah.johnson@example.com</td><td>307</td><td>Monitor</td><td>Accessories</td><td>402</td><td>Europe</td><td>UK</td><td>2</td><td>200.00</td><td>400.00</td></tr></tbody></table></div>"
      ]
     },
     "metadata": {
      "application/vnd.databricks.v1+output": {
       "addedWidgets": {},
       "aggData": [],
       "aggError": "",
       "aggOverflow": false,
       "aggSchema": [],
       "aggSeriesLimitReached": false,
       "aggType": "",
       "arguments": {},
       "columnCustomDisplayInfos": {},
       "data": [
        [
         1,
         "2025-03-01",
         201,
         "John Doe",
         "john.doe@example.com",
         301,
         "Laptop",
         "Electronics",
         401,
         "North America",
         "USA",
         2,
         "900.00",
         "1800.00"
        ],
        [
         2,
         "2025-03-02",
         202,
         "Jane Smith",
         "jane.smith@example.com",
         302,
         "Smartphone",
         "Electronics",
         402,
         "Europe",
         "Germany",
         1,
         "600.00",
         "600.00"
        ],
        [
         3,
         "2025-03-03",
         203,
         "Robert Brown",
         "robert.brown@example.com",
         303,
         "Tablet",
         "Electronics",
         403,
         "Asia",
         "India",
         3,
         "350.00",
         "1050.00"
        ],
        [
         4,
         "2025-03-04",
         201,
         "John Doe",
         "john.doe@example.com",
         304,
         "Headphones",
         "Accessories",
         401,
         "North America",
         "USA",
         1,
         "120.00",
         "120.00"
        ],
        [
         5,
         "2025-03-05",
         204,
         "Emily Davis",
         "emily.davis@example.com",
         305,
         "Gaming Console",
         "Electronics",
         402,
         "Europe",
         "France",
         1,
         "500.00",
         "500.00"
        ],
        [
         6,
         "2025-03-06",
         202,
         "Jane Smith",
         "jane.smith@example.com",
         306,
         "Smartwatch",
         "Electronics",
         403,
         "Asia",
         "China",
         2,
         "250.00",
         "500.00"
        ],
        [
         7,
         "2025-03-07",
         205,
         "Michael Wilson",
         "michael.wilson@example.com",
         301,
         "Laptop",
         "Electronics",
         401,
         "North America",
         "Canada",
         1,
         "900.00",
         "900.00"
        ],
        [
         8,
         "2025-03-08",
         206,
         "Sarah Johnson",
         "sarah.johnson@example.com",
         307,
         "Monitor",
         "Accessories",
         402,
         "Europe",
         "UK",
         2,
         "200.00",
         "400.00"
        ]
       ],
       "datasetInfos": [],
       "dbfsResultPath": null,
       "isJsonSchema": true,
       "metadata": {},
       "overflow": false,
       "plotOptions": {
        "customPlotOptions": {},
        "displayType": "table",
        "pivotAggregation": null,
        "pivotColumns": null,
        "xColumns": null,
        "yColumns": null
       },
       "removedWidgets": [],
       "schema": [
        {
         "metadata": "{}",
         "name": "OrderID",
         "type": "\"integer\""
        },
        {
         "metadata": "{}",
         "name": "OrderDate",
         "type": "\"date\""
        },
        {
         "metadata": "{}",
         "name": "CustomerID",
         "type": "\"integer\""
        },
        {
         "metadata": "{}",
         "name": "CustomerName",
         "type": "\"string\""
        },
        {
         "metadata": "{}",
         "name": "CustomerEmail",
         "type": "\"string\""
        },
        {
         "metadata": "{}",
         "name": "ProductID",
         "type": "\"integer\""
        },
        {
         "metadata": "{}",
         "name": "ProductName",
         "type": "\"string\""
        },
        {
         "metadata": "{}",
         "name": "ProductCategory",
         "type": "\"string\""
        },
        {
         "metadata": "{}",
         "name": "RegionID",
         "type": "\"integer\""
        },
        {
         "metadata": "{}",
         "name": "RegionName",
         "type": "\"string\""
        },
        {
         "metadata": "{}",
         "name": "Country",
         "type": "\"string\""
        },
        {
         "metadata": "{}",
         "name": "Quantity",
         "type": "\"integer\""
        },
        {
         "metadata": "{}",
         "name": "UnitPrice",
         "type": "\"decimal(10,2)\""
        },
        {
         "metadata": "{}",
         "name": "TotalAmount",
         "type": "\"decimal(10,2)\""
        }
       ],
       "type": "table"
      }
     },
     "output_type": "display_data"
    }
   ],
   "source": [
    "from pyspark.sql import SparkSession\n",
    "from pyspark.sql.types import StructType, StructField, IntegerType, StringType, DateType, DecimalType\n",
    "from datetime import datetime\n",
    "from decimal import Decimal  \n",
    "\n",
    "# Initialize SparkSession\n",
    "spark = SparkSession.builder.appName(\"SalesOrders\").enableHiveSupport().getOrCreate()\n",
    "\n",
    "# Define schema\n",
    "schema = StructType([\n",
    "    StructField(\"OrderID\", IntegerType(), False),\n",
    "    StructField(\"OrderDate\", DateType(), False),\n",
    "    StructField(\"CustomerID\", IntegerType(), False),\n",
    "    StructField(\"CustomerName\", StringType(), False),\n",
    "    StructField(\"CustomerEmail\", StringType(), False),\n",
    "    StructField(\"ProductID\", IntegerType(), False),\n",
    "    StructField(\"ProductName\", StringType(), False),\n",
    "    StructField(\"ProductCategory\", StringType(), False),\n",
    "    StructField(\"RegionID\", IntegerType(), False),\n",
    "    StructField(\"RegionName\", StringType(), False),\n",
    "    StructField(\"Country\", StringType(), False),\n",
    "    StructField(\"Quantity\", IntegerType(), False),\n",
    "    StructField(\"UnitPrice\", DecimalType(10,2), False),  \n",
    "    StructField(\"TotalAmount\", DecimalType(10,2), False)  \n",
    "])\n",
    "\n",
    "\n",
    "data = [\n",
    "    (1, datetime(2025, 3, 1), 201, \"John Doe\", \"john.doe@example.com\", 301, \"Laptop\", \"Electronics\", 401, \"North America\", \"USA\", 2, Decimal(\"900.00\"), Decimal(\"1800.00\")),\n",
    "    (2, datetime(2025, 3, 2), 202, \"Jane Smith\", \"jane.smith@example.com\", 302, \"Smartphone\", \"Electronics\", 402, \"Europe\", \"Germany\", 1, Decimal(\"600.00\"), Decimal(\"600.00\")),\n",
    "    (3, datetime(2025, 3, 3), 203, \"Robert Brown\", \"robert.brown@example.com\", 303, \"Tablet\", \"Electronics\", 403, \"Asia\", \"India\", 3, Decimal(\"350.00\"), Decimal(\"1050.00\")),\n",
    "    (4, datetime(2025, 3, 4), 201, \"John Doe\", \"john.doe@example.com\", 304, \"Headphones\", \"Accessories\", 401, \"North America\", \"USA\", 1, Decimal(\"120.00\"), Decimal(\"120.00\")),\n",
    "    (5, datetime(2025, 3, 5), 204, \"Emily Davis\", \"emily.davis@example.com\", 305, \"Gaming Console\", \"Electronics\", 402, \"Europe\", \"France\", 1, Decimal(\"500.00\"), Decimal(\"500.00\")),\n",
    "    (6, datetime(2025, 3, 6), 202, \"Jane Smith\", \"jane.smith@example.com\", 306, \"Smartwatch\", \"Electronics\", 403, \"Asia\", \"China\", 2, Decimal(\"250.00\"), Decimal(\"500.00\")),\n",
    "    (7, datetime(2025, 3, 7), 205, \"Michael Wilson\", \"michael.wilson@example.com\", 301, \"Laptop\", \"Electronics\", 401, \"North America\", \"Canada\", 1, Decimal(\"900.00\"), Decimal(\"900.00\")),\n",
    "    (8, datetime(2025, 3, 8), 206, \"Sarah Johnson\", \"sarah.johnson@example.com\", 307, \"Monitor\", \"Accessories\", 402, \"Europe\", \"UK\", 2, Decimal(\"200.00\"), Decimal(\"400.00\"))\n",
    "]\n",
    "\n",
    "# Create DataFrame\n",
    "df = spark.createDataFrame(data, schema=schema)\n",
    "\n",
    "# Show DataFrame\n",
    "display(df)\n",
    "\n",
    "# Write DataFrame to Spark SQL Table\n",
    "df.write.mode(\"overwrite\").saveAsTable(\"Sales.Orders\")"
   ]
  },
  {
   "cell_type": "code",
   "execution_count": 0,
   "metadata": {
    "application/vnd.databricks.v1+cell": {
     "cellMetadata": {
      "byteLimit": 2048000,
      "rowLimit": 10000
     },
     "inputWidgets": {},
     "nuid": "e1417b4f-c1d7-415f-919b-ee61f5d1e9b3",
     "showTitle": false,
     "tableResultSettingsMap": {},
     "title": ""
    }
   },
   "outputs": [
    {
     "output_type": "display_data",
     "data": {
      "text/html": [
       "<style scoped>\n",
       "  .table-result-container {\n",
       "    max-height: 300px;\n",
       "    overflow: auto;\n",
       "  }\n",
       "  table, th, td {\n",
       "    border: 1px solid black;\n",
       "    border-collapse: collapse;\n",
       "  }\n",
       "  th, td {\n",
       "    padding: 5px;\n",
       "  }\n",
       "  th {\n",
       "    text-align: left;\n",
       "  }\n",
       "</style><div class='table-result-container'><table class='table-result'><thead style='background-color: white'><tr><th>OrderID</th><th>OrderDate</th><th>CustomerID</th><th>CustomerName</th><th>CustomerEmail</th><th>ProductID</th><th>ProductName</th><th>ProductCategory</th><th>RegionID</th><th>RegionName</th><th>Country</th><th>Quantity</th><th>UnitPrice</th><th>TotalAmount</th></tr></thead><tbody><tr><td>1</td><td>2025-03-01</td><td>201</td><td>John Doe</td><td>john.doe@example.com</td><td>301</td><td>Laptop</td><td>Electronics</td><td>401</td><td>North America</td><td>USA</td><td>2</td><td>900.00</td><td>1800.00</td></tr><tr><td>2</td><td>2025-03-02</td><td>202</td><td>Jane Smith</td><td>jane.smith@example.com</td><td>302</td><td>Smartphone</td><td>Electronics</td><td>402</td><td>Europe</td><td>Germany</td><td>1</td><td>600.00</td><td>600.00</td></tr><tr><td>3</td><td>2025-03-03</td><td>203</td><td>Robert Brown</td><td>robert.brown@example.com</td><td>303</td><td>Tablet</td><td>Electronics</td><td>403</td><td>Asia</td><td>India</td><td>3</td><td>350.00</td><td>1050.00</td></tr><tr><td>4</td><td>2025-03-04</td><td>201</td><td>John Doe</td><td>john.doe@example.com</td><td>304</td><td>Headphones</td><td>Accessories</td><td>401</td><td>North America</td><td>USA</td><td>1</td><td>120.00</td><td>120.00</td></tr><tr><td>5</td><td>2025-03-05</td><td>204</td><td>Emily Davis</td><td>emily.davis@example.com</td><td>305</td><td>Gaming Console</td><td>Electronics</td><td>402</td><td>Europe</td><td>France</td><td>1</td><td>500.00</td><td>500.00</td></tr><tr><td>6</td><td>2025-03-06</td><td>202</td><td>Jane Smith</td><td>jane.smith@example.com</td><td>306</td><td>Smartwatch</td><td>Electronics</td><td>403</td><td>Asia</td><td>China</td><td>2</td><td>250.00</td><td>500.00</td></tr><tr><td>7</td><td>2025-03-07</td><td>205</td><td>Michael Wilson</td><td>michael.wilson@example.com</td><td>301</td><td>Laptop</td><td>Electronics</td><td>401</td><td>North America</td><td>Canada</td><td>1</td><td>900.00</td><td>900.00</td></tr><tr><td>8</td><td>2025-03-08</td><td>206</td><td>Sarah Johnson</td><td>sarah.johnson@example.com</td><td>307</td><td>Monitor</td><td>Accessories</td><td>402</td><td>Europe</td><td>UK</td><td>2</td><td>200.00</td><td>400.00</td></tr><tr><td>9</td><td>2025-03-09</td><td>207</td><td>Daniel Martinez</td><td>daniel.martinez@example.com</td><td>308</td><td>Keyboard</td><td>Accessories</td><td>403</td><td>Asia</td><td>Japan</td><td>2</td><td>50.00</td><td>100.00</td></tr><tr><td>9</td><td>2025-03-09</td><td>207</td><td>Daniel Martinez</td><td>daniel.martinez@example.com</td><td>308</td><td>Keyboard</td><td>Accessories</td><td>403</td><td>Asia</td><td>Japan</td><td>2</td><td>50.00</td><td>100.00</td></tr><tr><td>10</td><td>2025-03-10</td><td>208</td><td>Olivia White</td><td>olivia.white@example.com</td><td>309</td><td>Mouse</td><td>Accessories</td><td>401</td><td>North America</td><td>USA</td><td>1</td><td>40.00</td><td>40.00</td></tr><tr><td>10</td><td>2025-03-10</td><td>208</td><td>Olivia White</td><td>olivia.white@example.com</td><td>309</td><td>Mouse</td><td>Accessories</td><td>401</td><td>North America</td><td>USA</td><td>1</td><td>40.00</td><td>40.00</td></tr><tr><td>11</td><td>2025-03-11</td><td>209</td><td>Liam Harris</td><td>liam.harris@example.com</td><td>310</td><td>Printer</td><td>Electronics</td><td>402</td><td>Europe</td><td>Germany</td><td>1</td><td>150.00</td><td>150.00</td></tr><tr><td>11</td><td>2025-03-11</td><td>209</td><td>Liam Harris</td><td>liam.harris@example.com</td><td>310</td><td>Printer</td><td>Electronics</td><td>402</td><td>Europe</td><td>Germany</td><td>1</td><td>150.00</td><td>150.00</td></tr><tr><td>12</td><td>2025-03-12</td><td>210</td><td>Sophia Clark</td><td>sophia.clark@example.com</td><td>311</td><td>External Hard Drive</td><td>Accessories</td><td>403</td><td>Asia</td><td>India</td><td>2</td><td>120.00</td><td>240.00</td></tr><tr><td>12</td><td>2025-03-12</td><td>210</td><td>Sophia Clark</td><td>sophia.clark@example.com</td><td>311</td><td>External Hard Drive</td><td>Accessories</td><td>403</td><td>Asia</td><td>India</td><td>2</td><td>120.00</td><td>240.00</td></tr><tr><td>13</td><td>2025-03-13</td><td>211</td><td>Benjamin Lewis</td><td>benjamin.lewis@example.com</td><td>312</td><td>Graphics Card</td><td>Electronics</td><td>401</td><td>North America</td><td>Canada</td><td>1</td><td>700.00</td><td>700.00</td></tr><tr><td>13</td><td>2025-03-13</td><td>211</td><td>Benjamin Lewis</td><td>benjamin.lewis@example.com</td><td>312</td><td>Graphics Card</td><td>Electronics</td><td>401</td><td>North America</td><td>Canada</td><td>1</td><td>700.00</td><td>700.00</td></tr><tr><td>14</td><td>2025-03-14</td><td>212</td><td>Emma Walker</td><td>emma.walker@example.com</td><td>313</td><td>Webcam</td><td>Accessories</td><td>402</td><td>Europe</td><td>France</td><td>1</td><td>80.00</td><td>80.00</td></tr><tr><td>14</td><td>2025-03-14</td><td>212</td><td>Emma Walker</td><td>emma.walker@example.com</td><td>313</td><td>Webcam</td><td>Accessories</td><td>402</td><td>Europe</td><td>France</td><td>1</td><td>80.00</td><td>80.00</td></tr><tr><td>15</td><td>2025-03-15</td><td>213</td><td>Lucas Hall</td><td>lucas.hall@example.com</td><td>314</td><td>Router</td><td>Electronics</td><td>403</td><td>Asia</td><td>China</td><td>2</td><td>90.00</td><td>180.00</td></tr><tr><td>15</td><td>2025-03-15</td><td>213</td><td>Lucas Hall</td><td>lucas.hall@example.com</td><td>314</td><td>Router</td><td>Electronics</td><td>403</td><td>Asia</td><td>China</td><td>2</td><td>90.00</td><td>180.00</td></tr><tr><td>16</td><td>2025-03-16</td><td>214</td><td>Mia Allen</td><td>mia.allen@example.com</td><td>315</td><td>USB Flash Drive</td><td>Accessories</td><td>401</td><td>North America</td><td>USA</td><td>5</td><td>20.00</td><td>100.00</td></tr><tr><td>16</td><td>2025-03-16</td><td>214</td><td>Mia Allen</td><td>mia.allen@example.com</td><td>315</td><td>USB Flash Drive</td><td>Accessories</td><td>401</td><td>North America</td><td>USA</td><td>5</td><td>20.00</td><td>100.00</td></tr><tr><td>17</td><td>2025-03-17</td><td>215</td><td>Noah King</td><td>noah.king@example.com</td><td>316</td><td>Projector</td><td>Electronics</td><td>402</td><td>Europe</td><td>UK</td><td>1</td><td>400.00</td><td>400.00</td></tr><tr><td>17</td><td>2025-03-17</td><td>215</td><td>Noah King</td><td>noah.king@example.com</td><td>316</td><td>Projector</td><td>Electronics</td><td>402</td><td>Europe</td><td>UK</td><td>1</td><td>400.00</td><td>400.00</td></tr><tr><td>18</td><td>2025-03-18</td><td>216</td><td>Ava Scott</td><td>ava.scott@example.com</td><td>317</td><td>Speakers</td><td>Accessories</td><td>403</td><td>Asia</td><td>Japan</td><td>2</td><td>150.00</td><td>300.00</td></tr><tr><td>18</td><td>2025-03-18</td><td>216</td><td>Ava Scott</td><td>ava.scott@example.com</td><td>317</td><td>Speakers</td><td>Accessories</td><td>403</td><td>Asia</td><td>Japan</td><td>2</td><td>150.00</td><td>300.00</td></tr></tbody></table></div>"
      ]
     },
     "metadata": {
      "application/vnd.databricks.v1+output": {
       "addedWidgets": {},
       "aggData": [],
       "aggError": "",
       "aggOverflow": false,
       "aggSchema": [],
       "aggSeriesLimitReached": false,
       "aggType": "",
       "arguments": {},
       "columnCustomDisplayInfos": {},
       "data": [
        [
         1,
         "2025-03-01",
         201,
         "John Doe",
         "john.doe@example.com",
         301,
         "Laptop",
         "Electronics",
         401,
         "North America",
         "USA",
         2,
         "900.00",
         "1800.00"
        ],
        [
         2,
         "2025-03-02",
         202,
         "Jane Smith",
         "jane.smith@example.com",
         302,
         "Smartphone",
         "Electronics",
         402,
         "Europe",
         "Germany",
         1,
         "600.00",
         "600.00"
        ],
        [
         3,
         "2025-03-03",
         203,
         "Robert Brown",
         "robert.brown@example.com",
         303,
         "Tablet",
         "Electronics",
         403,
         "Asia",
         "India",
         3,
         "350.00",
         "1050.00"
        ],
        [
         4,
         "2025-03-04",
         201,
         "John Doe",
         "john.doe@example.com",
         304,
         "Headphones",
         "Accessories",
         401,
         "North America",
         "USA",
         1,
         "120.00",
         "120.00"
        ],
        [
         5,
         "2025-03-05",
         204,
         "Emily Davis",
         "emily.davis@example.com",
         305,
         "Gaming Console",
         "Electronics",
         402,
         "Europe",
         "France",
         1,
         "500.00",
         "500.00"
        ],
        [
         6,
         "2025-03-06",
         202,
         "Jane Smith",
         "jane.smith@example.com",
         306,
         "Smartwatch",
         "Electronics",
         403,
         "Asia",
         "China",
         2,
         "250.00",
         "500.00"
        ],
        [
         7,
         "2025-03-07",
         205,
         "Michael Wilson",
         "michael.wilson@example.com",
         301,
         "Laptop",
         "Electronics",
         401,
         "North America",
         "Canada",
         1,
         "900.00",
         "900.00"
        ],
        [
         8,
         "2025-03-08",
         206,
         "Sarah Johnson",
         "sarah.johnson@example.com",
         307,
         "Monitor",
         "Accessories",
         402,
         "Europe",
         "UK",
         2,
         "200.00",
         "400.00"
        ],
        [
         9,
         "2025-03-09",
         207,
         "Daniel Martinez",
         "daniel.martinez@example.com",
         308,
         "Keyboard",
         "Accessories",
         403,
         "Asia",
         "Japan",
         2,
         "50.00",
         "100.00"
        ],
        [
         9,
         "2025-03-09",
         207,
         "Daniel Martinez",
         "daniel.martinez@example.com",
         308,
         "Keyboard",
         "Accessories",
         403,
         "Asia",
         "Japan",
         2,
         "50.00",
         "100.00"
        ],
        [
         10,
         "2025-03-10",
         208,
         "Olivia White",
         "olivia.white@example.com",
         309,
         "Mouse",
         "Accessories",
         401,
         "North America",
         "USA",
         1,
         "40.00",
         "40.00"
        ],
        [
         10,
         "2025-03-10",
         208,
         "Olivia White",
         "olivia.white@example.com",
         309,
         "Mouse",
         "Accessories",
         401,
         "North America",
         "USA",
         1,
         "40.00",
         "40.00"
        ],
        [
         11,
         "2025-03-11",
         209,
         "Liam Harris",
         "liam.harris@example.com",
         310,
         "Printer",
         "Electronics",
         402,
         "Europe",
         "Germany",
         1,
         "150.00",
         "150.00"
        ],
        [
         11,
         "2025-03-11",
         209,
         "Liam Harris",
         "liam.harris@example.com",
         310,
         "Printer",
         "Electronics",
         402,
         "Europe",
         "Germany",
         1,
         "150.00",
         "150.00"
        ],
        [
         12,
         "2025-03-12",
         210,
         "Sophia Clark",
         "sophia.clark@example.com",
         311,
         "External Hard Drive",
         "Accessories",
         403,
         "Asia",
         "India",
         2,
         "120.00",
         "240.00"
        ],
        [
         12,
         "2025-03-12",
         210,
         "Sophia Clark",
         "sophia.clark@example.com",
         311,
         "External Hard Drive",
         "Accessories",
         403,
         "Asia",
         "India",
         2,
         "120.00",
         "240.00"
        ],
        [
         13,
         "2025-03-13",
         211,
         "Benjamin Lewis",
         "benjamin.lewis@example.com",
         312,
         "Graphics Card",
         "Electronics",
         401,
         "North America",
         "Canada",
         1,
         "700.00",
         "700.00"
        ],
        [
         13,
         "2025-03-13",
         211,
         "Benjamin Lewis",
         "benjamin.lewis@example.com",
         312,
         "Graphics Card",
         "Electronics",
         401,
         "North America",
         "Canada",
         1,
         "700.00",
         "700.00"
        ],
        [
         14,
         "2025-03-14",
         212,
         "Emma Walker",
         "emma.walker@example.com",
         313,
         "Webcam",
         "Accessories",
         402,
         "Europe",
         "France",
         1,
         "80.00",
         "80.00"
        ],
        [
         14,
         "2025-03-14",
         212,
         "Emma Walker",
         "emma.walker@example.com",
         313,
         "Webcam",
         "Accessories",
         402,
         "Europe",
         "France",
         1,
         "80.00",
         "80.00"
        ],
        [
         15,
         "2025-03-15",
         213,
         "Lucas Hall",
         "lucas.hall@example.com",
         314,
         "Router",
         "Electronics",
         403,
         "Asia",
         "China",
         2,
         "90.00",
         "180.00"
        ],
        [
         15,
         "2025-03-15",
         213,
         "Lucas Hall",
         "lucas.hall@example.com",
         314,
         "Router",
         "Electronics",
         403,
         "Asia",
         "China",
         2,
         "90.00",
         "180.00"
        ],
        [
         16,
         "2025-03-16",
         214,
         "Mia Allen",
         "mia.allen@example.com",
         315,
         "USB Flash Drive",
         "Accessories",
         401,
         "North America",
         "USA",
         5,
         "20.00",
         "100.00"
        ],
        [
         16,
         "2025-03-16",
         214,
         "Mia Allen",
         "mia.allen@example.com",
         315,
         "USB Flash Drive",
         "Accessories",
         401,
         "North America",
         "USA",
         5,
         "20.00",
         "100.00"
        ],
        [
         17,
         "2025-03-17",
         215,
         "Noah King",
         "noah.king@example.com",
         316,
         "Projector",
         "Electronics",
         402,
         "Europe",
         "UK",
         1,
         "400.00",
         "400.00"
        ],
        [
         17,
         "2025-03-17",
         215,
         "Noah King",
         "noah.king@example.com",
         316,
         "Projector",
         "Electronics",
         402,
         "Europe",
         "UK",
         1,
         "400.00",
         "400.00"
        ],
        [
         18,
         "2025-03-18",
         216,
         "Ava Scott",
         "ava.scott@example.com",
         317,
         "Speakers",
         "Accessories",
         403,
         "Asia",
         "Japan",
         2,
         "150.00",
         "300.00"
        ],
        [
         18,
         "2025-03-18",
         216,
         "Ava Scott",
         "ava.scott@example.com",
         317,
         "Speakers",
         "Accessories",
         403,
         "Asia",
         "Japan",
         2,
         "150.00",
         "300.00"
        ]
       ],
       "datasetInfos": [],
       "dbfsResultPath": null,
       "isJsonSchema": true,
       "metadata": {},
       "overflow": false,
       "plotOptions": {
        "customPlotOptions": {},
        "displayType": "table",
        "pivotAggregation": null,
        "pivotColumns": null,
        "xColumns": null,
        "yColumns": null
       },
       "removedWidgets": [],
       "schema": [
        {
         "metadata": "{}",
         "name": "OrderID",
         "type": "\"integer\""
        },
        {
         "metadata": "{}",
         "name": "OrderDate",
         "type": "\"date\""
        },
        {
         "metadata": "{}",
         "name": "CustomerID",
         "type": "\"integer\""
        },
        {
         "metadata": "{}",
         "name": "CustomerName",
         "type": "\"string\""
        },
        {
         "metadata": "{}",
         "name": "CustomerEmail",
         "type": "\"string\""
        },
        {
         "metadata": "{}",
         "name": "ProductID",
         "type": "\"integer\""
        },
        {
         "metadata": "{}",
         "name": "ProductName",
         "type": "\"string\""
        },
        {
         "metadata": "{}",
         "name": "ProductCategory",
         "type": "\"string\""
        },
        {
         "metadata": "{}",
         "name": "RegionID",
         "type": "\"integer\""
        },
        {
         "metadata": "{}",
         "name": "RegionName",
         "type": "\"string\""
        },
        {
         "metadata": "{}",
         "name": "Country",
         "type": "\"string\""
        },
        {
         "metadata": "{}",
         "name": "Quantity",
         "type": "\"integer\""
        },
        {
         "metadata": "{}",
         "name": "UnitPrice",
         "type": "\"decimal(10,2)\""
        },
        {
         "metadata": "{}",
         "name": "TotalAmount",
         "type": "\"decimal(10,2)\""
        }
       ],
       "type": "table"
      }
     },
     "output_type": "display_data"
    }
   ],
   "source": [
    "from datetime import datetime\n",
    "from decimal import Decimal\n",
    "\n",
    "# New data to insert\n",
    "new_data = [\n",
    "    (9, datetime(2025, 3, 9), 207, \"Daniel Martinez\", \"daniel.martinez@example.com\", 308, \"Keyboard\", \"Accessories\", 403, \"Asia\", \"Japan\", 2, Decimal(\"50.00\"), Decimal(\"100.00\")),\n",
    "    (10, datetime(2025, 3, 10), 208, \"Olivia White\", \"olivia.white@example.com\", 309, \"Mouse\", \"Accessories\", 401, \"North America\", \"USA\", 1, Decimal(\"40.00\"), Decimal(\"40.00\")),\n",
    "    (11, datetime(2025, 3, 11), 209, \"Liam Harris\", \"liam.harris@example.com\", 310, \"Printer\", \"Electronics\", 402, \"Europe\", \"Germany\", 1, Decimal(\"150.00\"), Decimal(\"150.00\")),\n",
    "    (12, datetime(2025, 3, 12), 210, \"Sophia Clark\", \"sophia.clark@example.com\", 311, \"External Hard Drive\", \"Accessories\", 403, \"Asia\", \"India\", 2, Decimal(\"120.00\"), Decimal(\"240.00\")),\n",
    "    (13, datetime(2025, 3, 13), 211, \"Benjamin Lewis\", \"benjamin.lewis@example.com\", 312, \"Graphics Card\", \"Electronics\", 401, \"North America\", \"Canada\", 1, Decimal(\"700.00\"), Decimal(\"700.00\")),\n",
    "    (14, datetime(2025, 3, 14), 212, \"Emma Walker\", \"emma.walker@example.com\", 313, \"Webcam\", \"Accessories\", 402, \"Europe\", \"France\", 1, Decimal(\"80.00\"), Decimal(\"80.00\")),\n",
    "    (15, datetime(2025, 3, 15), 213, \"Lucas Hall\", \"lucas.hall@example.com\", 314, \"Router\", \"Electronics\", 403, \"Asia\", \"China\", 2, Decimal(\"90.00\"), Decimal(\"180.00\")),\n",
    "    (16, datetime(2025, 3, 16), 214, \"Mia Allen\", \"mia.allen@example.com\", 315, \"USB Flash Drive\", \"Accessories\", 401, \"North America\", \"USA\", 5, Decimal(\"20.00\"), Decimal(\"100.00\")),\n",
    "    (17, datetime(2025, 3, 17), 215, \"Noah King\", \"noah.king@example.com\", 316, \"Projector\", \"Electronics\", 402, \"Europe\", \"UK\", 1, Decimal(\"400.00\"), Decimal(\"400.00\")),\n",
    "    (18, datetime(2025, 3, 18), 216, \"Ava Scott\", \"ava.scott@example.com\", 317, \"Speakers\", \"Accessories\", 403, \"Asia\", \"Japan\", 2, Decimal(\"150.00\"), Decimal(\"300.00\"))\n",
    "]\n",
    "\n",
    "# Create DataFrame for new data\n",
    "new_df = spark.createDataFrame(new_data, schema=schema)\n",
    "\n",
    "# Append new data to existing table\n",
    "new_df.write.mode(\"append\").saveAsTable(\"Sales.Orders\")\n",
    "\n",
    "# Display updated table\n",
    "display(spark.sql(\"SELECT * FROM Sales.Orders ORDER BY OrderID;\"))"
   ]
  },
  {
   "cell_type": "markdown",
   "metadata": {
    "application/vnd.databricks.v1+cell": {
     "cellMetadata": {},
     "inputWidgets": {},
     "nuid": "b4a146d6-427d-4365-9a96-9b85586f5634",
     "showTitle": false,
     "tableResultSettingsMap": {},
     "title": ""
    }
   },
   "source": [
    "# Data Warehousing"
   ]
  },
  {
   "cell_type": "code",
   "execution_count": 0,
   "metadata": {
    "application/vnd.databricks.v1+cell": {
     "cellMetadata": {
      "byteLimit": 2048000,
      "rowLimit": 10000
     },
     "inputWidgets": {},
     "nuid": "d8d8065d-4f51-485a-bbe8-f149af542c18",
     "showTitle": false,
     "tableResultSettingsMap": {},
     "title": ""
    }
   },
   "outputs": [
    {
     "output_type": "display_data",
     "data": {
      "text/html": [
       "<style scoped>\n",
       "  .table-result-container {\n",
       "    max-height: 300px;\n",
       "    overflow: auto;\n",
       "  }\n",
       "  table, th, td {\n",
       "    border: 1px solid black;\n",
       "    border-collapse: collapse;\n",
       "  }\n",
       "  th, td {\n",
       "    padding: 5px;\n",
       "  }\n",
       "  th {\n",
       "    text-align: left;\n",
       "  }\n",
       "</style><div class='table-result-container'><table class='table-result'><thead style='background-color: white'><tr><th>databaseName</th></tr></thead><tbody><tr><td>default</td></tr><tr><td>sales</td></tr><tr><td>salesdwh</td></tr></tbody></table></div>"
      ]
     },
     "metadata": {
      "application/vnd.databricks.v1+output": {
       "addedWidgets": {},
       "aggData": [],
       "aggError": "",
       "aggOverflow": false,
       "aggSchema": [],
       "aggSeriesLimitReached": false,
       "aggType": "",
       "arguments": {},
       "columnCustomDisplayInfos": {},
       "data": [
        [
         "default"
        ],
        [
         "sales"
        ],
        [
         "salesdwh"
        ]
       ],
       "datasetInfos": [],
       "dbfsResultPath": null,
       "isJsonSchema": true,
       "metadata": {},
       "overflow": false,
       "plotOptions": {
        "customPlotOptions": {},
        "displayType": "table",
        "pivotAggregation": null,
        "pivotColumns": null,
        "xColumns": null,
        "yColumns": null
       },
       "removedWidgets": [],
       "schema": [
        {
         "metadata": "{}",
         "name": "databaseName",
         "type": "\"string\""
        }
       ],
       "type": "table"
      }
     },
     "output_type": "display_data"
    }
   ],
   "source": [
    "# Drop the database if it exists (including all tables inside it)\n",
    "spark.sql(\"DROP DATABASE IF EXISTS SalesDWH CASCADE\")\n",
    "\n",
    "# Create a new database for the Data Warehouse\n",
    "spark.sql(\"CREATE DATABASE SalesDWH\")\n",
    "\n",
    "# Switch to the new database (Not required in Spark, but useful for SQL queries)\n",
    "spark.sql(\"USE SalesDWH\")\n",
    "\n",
    "# Display available databases to confirm the change\n",
    "display(spark.sql(\"SHOW DATABASES\"))"
   ]
  },
  {
   "cell_type": "markdown",
   "metadata": {
    "application/vnd.databricks.v1+cell": {
     "cellMetadata": {},
     "inputWidgets": {},
     "nuid": "062b92e7-835a-44e1-923d-a2f3dd9fb102",
     "showTitle": false,
     "tableResultSettingsMap": {},
     "title": ""
    }
   },
   "source": [
    "## Staging Layer"
   ]
  },
  {
   "cell_type": "code",
   "execution_count": 0,
   "metadata": {
    "application/vnd.databricks.v1+cell": {
     "cellMetadata": {
      "byteLimit": 2048000,
      "rowLimit": 10000
     },
     "inputWidgets": {},
     "nuid": "fc121624-c74c-4a6f-9bdc-323dc761cb9f",
     "showTitle": false,
     "tableResultSettingsMap": {},
     "title": ""
    }
   },
   "outputs": [
    {
     "output_type": "display_data",
     "data": {
      "text/html": [
       "<style scoped>\n",
       "  .table-result-container {\n",
       "    max-height: 300px;\n",
       "    overflow: auto;\n",
       "  }\n",
       "  table, th, td {\n",
       "    border: 1px solid black;\n",
       "    border-collapse: collapse;\n",
       "  }\n",
       "  th, td {\n",
       "    padding: 5px;\n",
       "  }\n",
       "  th {\n",
       "    text-align: left;\n",
       "  }\n",
       "</style><div class='table-result-container'><table class='table-result'><thead style='background-color: white'><tr><th>OrderID</th><th>OrderDate</th><th>CustomerID</th><th>CustomerName</th><th>CustomerEmail</th><th>ProductID</th><th>ProductName</th><th>ProductCategory</th><th>RegionID</th><th>RegionName</th><th>Country</th><th>Quantity</th><th>UnitPrice</th><th>TotalAmount</th></tr></thead><tbody><tr><td>11</td><td>2025-03-11</td><td>209</td><td>Liam Harris</td><td>liam.harris@example.com</td><td>310</td><td>Printer</td><td>Electronics</td><td>402</td><td>Europe</td><td>Germany</td><td>1</td><td>150.00</td><td>150.00</td></tr><tr><td>12</td><td>2025-03-12</td><td>210</td><td>Sophia Clark</td><td>sophia.clark@example.com</td><td>311</td><td>External Hard Drive</td><td>Accessories</td><td>403</td><td>Asia</td><td>India</td><td>2</td><td>120.00</td><td>240.00</td></tr><tr><td>13</td><td>2025-03-13</td><td>211</td><td>Benjamin Lewis</td><td>benjamin.lewis@example.com</td><td>312</td><td>Graphics Card</td><td>Electronics</td><td>401</td><td>North America</td><td>Canada</td><td>1</td><td>700.00</td><td>700.00</td></tr><tr><td>11</td><td>2025-03-11</td><td>209</td><td>Liam Harris</td><td>liam.harris@example.com</td><td>310</td><td>Printer</td><td>Electronics</td><td>402</td><td>Europe</td><td>Germany</td><td>1</td><td>150.00</td><td>150.00</td></tr><tr><td>12</td><td>2025-03-12</td><td>210</td><td>Sophia Clark</td><td>sophia.clark@example.com</td><td>311</td><td>External Hard Drive</td><td>Accessories</td><td>403</td><td>Asia</td><td>India</td><td>2</td><td>120.00</td><td>240.00</td></tr><tr><td>13</td><td>2025-03-13</td><td>211</td><td>Benjamin Lewis</td><td>benjamin.lewis@example.com</td><td>312</td><td>Graphics Card</td><td>Electronics</td><td>401</td><td>North America</td><td>Canada</td><td>1</td><td>700.00</td><td>700.00</td></tr><tr><td>16</td><td>2025-03-16</td><td>214</td><td>Mia Allen</td><td>mia.allen@example.com</td><td>315</td><td>USB Flash Drive</td><td>Accessories</td><td>401</td><td>North America</td><td>USA</td><td>5</td><td>20.00</td><td>100.00</td></tr><tr><td>17</td><td>2025-03-17</td><td>215</td><td>Noah King</td><td>noah.king@example.com</td><td>316</td><td>Projector</td><td>Electronics</td><td>402</td><td>Europe</td><td>UK</td><td>1</td><td>400.00</td><td>400.00</td></tr><tr><td>18</td><td>2025-03-18</td><td>216</td><td>Ava Scott</td><td>ava.scott@example.com</td><td>317</td><td>Speakers</td><td>Accessories</td><td>403</td><td>Asia</td><td>Japan</td><td>2</td><td>150.00</td><td>300.00</td></tr><tr><td>16</td><td>2025-03-16</td><td>214</td><td>Mia Allen</td><td>mia.allen@example.com</td><td>315</td><td>USB Flash Drive</td><td>Accessories</td><td>401</td><td>North America</td><td>USA</td><td>5</td><td>20.00</td><td>100.00</td></tr><tr><td>17</td><td>2025-03-17</td><td>215</td><td>Noah King</td><td>noah.king@example.com</td><td>316</td><td>Projector</td><td>Electronics</td><td>402</td><td>Europe</td><td>UK</td><td>1</td><td>400.00</td><td>400.00</td></tr><tr><td>18</td><td>2025-03-18</td><td>216</td><td>Ava Scott</td><td>ava.scott@example.com</td><td>317</td><td>Speakers</td><td>Accessories</td><td>403</td><td>Asia</td><td>Japan</td><td>2</td><td>150.00</td><td>300.00</td></tr><tr><td>9</td><td>2025-03-09</td><td>207</td><td>Daniel Martinez</td><td>daniel.martinez@example.com</td><td>308</td><td>Keyboard</td><td>Accessories</td><td>403</td><td>Asia</td><td>Japan</td><td>2</td><td>50.00</td><td>100.00</td></tr><tr><td>10</td><td>2025-03-10</td><td>208</td><td>Olivia White</td><td>olivia.white@example.com</td><td>309</td><td>Mouse</td><td>Accessories</td><td>401</td><td>North America</td><td>USA</td><td>1</td><td>40.00</td><td>40.00</td></tr><tr><td>9</td><td>2025-03-09</td><td>207</td><td>Daniel Martinez</td><td>daniel.martinez@example.com</td><td>308</td><td>Keyboard</td><td>Accessories</td><td>403</td><td>Asia</td><td>Japan</td><td>2</td><td>50.00</td><td>100.00</td></tr><tr><td>10</td><td>2025-03-10</td><td>208</td><td>Olivia White</td><td>olivia.white@example.com</td><td>309</td><td>Mouse</td><td>Accessories</td><td>401</td><td>North America</td><td>USA</td><td>1</td><td>40.00</td><td>40.00</td></tr><tr><td>14</td><td>2025-03-14</td><td>212</td><td>Emma Walker</td><td>emma.walker@example.com</td><td>313</td><td>Webcam</td><td>Accessories</td><td>402</td><td>Europe</td><td>France</td><td>1</td><td>80.00</td><td>80.00</td></tr><tr><td>15</td><td>2025-03-15</td><td>213</td><td>Lucas Hall</td><td>lucas.hall@example.com</td><td>314</td><td>Router</td><td>Electronics</td><td>403</td><td>Asia</td><td>China</td><td>2</td><td>90.00</td><td>180.00</td></tr><tr><td>14</td><td>2025-03-14</td><td>212</td><td>Emma Walker</td><td>emma.walker@example.com</td><td>313</td><td>Webcam</td><td>Accessories</td><td>402</td><td>Europe</td><td>France</td><td>1</td><td>80.00</td><td>80.00</td></tr><tr><td>15</td><td>2025-03-15</td><td>213</td><td>Lucas Hall</td><td>lucas.hall@example.com</td><td>314</td><td>Router</td><td>Electronics</td><td>403</td><td>Asia</td><td>China</td><td>2</td><td>90.00</td><td>180.00</td></tr></tbody></table></div>"
      ]
     },
     "metadata": {
      "application/vnd.databricks.v1+output": {
       "addedWidgets": {},
       "aggData": [],
       "aggError": "",
       "aggOverflow": false,
       "aggSchema": [],
       "aggSeriesLimitReached": false,
       "aggType": "",
       "arguments": {},
       "columnCustomDisplayInfos": {},
       "data": [
        [
         11,
         "2025-03-11",
         209,
         "Liam Harris",
         "liam.harris@example.com",
         310,
         "Printer",
         "Electronics",
         402,
         "Europe",
         "Germany",
         1,
         "150.00",
         "150.00"
        ],
        [
         12,
         "2025-03-12",
         210,
         "Sophia Clark",
         "sophia.clark@example.com",
         311,
         "External Hard Drive",
         "Accessories",
         403,
         "Asia",
         "India",
         2,
         "120.00",
         "240.00"
        ],
        [
         13,
         "2025-03-13",
         211,
         "Benjamin Lewis",
         "benjamin.lewis@example.com",
         312,
         "Graphics Card",
         "Electronics",
         401,
         "North America",
         "Canada",
         1,
         "700.00",
         "700.00"
        ],
        [
         11,
         "2025-03-11",
         209,
         "Liam Harris",
         "liam.harris@example.com",
         310,
         "Printer",
         "Electronics",
         402,
         "Europe",
         "Germany",
         1,
         "150.00",
         "150.00"
        ],
        [
         12,
         "2025-03-12",
         210,
         "Sophia Clark",
         "sophia.clark@example.com",
         311,
         "External Hard Drive",
         "Accessories",
         403,
         "Asia",
         "India",
         2,
         "120.00",
         "240.00"
        ],
        [
         13,
         "2025-03-13",
         211,
         "Benjamin Lewis",
         "benjamin.lewis@example.com",
         312,
         "Graphics Card",
         "Electronics",
         401,
         "North America",
         "Canada",
         1,
         "700.00",
         "700.00"
        ],
        [
         16,
         "2025-03-16",
         214,
         "Mia Allen",
         "mia.allen@example.com",
         315,
         "USB Flash Drive",
         "Accessories",
         401,
         "North America",
         "USA",
         5,
         "20.00",
         "100.00"
        ],
        [
         17,
         "2025-03-17",
         215,
         "Noah King",
         "noah.king@example.com",
         316,
         "Projector",
         "Electronics",
         402,
         "Europe",
         "UK",
         1,
         "400.00",
         "400.00"
        ],
        [
         18,
         "2025-03-18",
         216,
         "Ava Scott",
         "ava.scott@example.com",
         317,
         "Speakers",
         "Accessories",
         403,
         "Asia",
         "Japan",
         2,
         "150.00",
         "300.00"
        ],
        [
         16,
         "2025-03-16",
         214,
         "Mia Allen",
         "mia.allen@example.com",
         315,
         "USB Flash Drive",
         "Accessories",
         401,
         "North America",
         "USA",
         5,
         "20.00",
         "100.00"
        ],
        [
         17,
         "2025-03-17",
         215,
         "Noah King",
         "noah.king@example.com",
         316,
         "Projector",
         "Electronics",
         402,
         "Europe",
         "UK",
         1,
         "400.00",
         "400.00"
        ],
        [
         18,
         "2025-03-18",
         216,
         "Ava Scott",
         "ava.scott@example.com",
         317,
         "Speakers",
         "Accessories",
         403,
         "Asia",
         "Japan",
         2,
         "150.00",
         "300.00"
        ],
        [
         9,
         "2025-03-09",
         207,
         "Daniel Martinez",
         "daniel.martinez@example.com",
         308,
         "Keyboard",
         "Accessories",
         403,
         "Asia",
         "Japan",
         2,
         "50.00",
         "100.00"
        ],
        [
         10,
         "2025-03-10",
         208,
         "Olivia White",
         "olivia.white@example.com",
         309,
         "Mouse",
         "Accessories",
         401,
         "North America",
         "USA",
         1,
         "40.00",
         "40.00"
        ],
        [
         9,
         "2025-03-09",
         207,
         "Daniel Martinez",
         "daniel.martinez@example.com",
         308,
         "Keyboard",
         "Accessories",
         403,
         "Asia",
         "Japan",
         2,
         "50.00",
         "100.00"
        ],
        [
         10,
         "2025-03-10",
         208,
         "Olivia White",
         "olivia.white@example.com",
         309,
         "Mouse",
         "Accessories",
         401,
         "North America",
         "USA",
         1,
         "40.00",
         "40.00"
        ],
        [
         14,
         "2025-03-14",
         212,
         "Emma Walker",
         "emma.walker@example.com",
         313,
         "Webcam",
         "Accessories",
         402,
         "Europe",
         "France",
         1,
         "80.00",
         "80.00"
        ],
        [
         15,
         "2025-03-15",
         213,
         "Lucas Hall",
         "lucas.hall@example.com",
         314,
         "Router",
         "Electronics",
         403,
         "Asia",
         "China",
         2,
         "90.00",
         "180.00"
        ],
        [
         14,
         "2025-03-14",
         212,
         "Emma Walker",
         "emma.walker@example.com",
         313,
         "Webcam",
         "Accessories",
         402,
         "Europe",
         "France",
         1,
         "80.00",
         "80.00"
        ],
        [
         15,
         "2025-03-15",
         213,
         "Lucas Hall",
         "lucas.hall@example.com",
         314,
         "Router",
         "Electronics",
         403,
         "Asia",
         "China",
         2,
         "90.00",
         "180.00"
        ]
       ],
       "datasetInfos": [],
       "dbfsResultPath": null,
       "isJsonSchema": true,
       "metadata": {},
       "overflow": false,
       "plotOptions": {
        "customPlotOptions": {},
        "displayType": "table",
        "pivotAggregation": null,
        "pivotColumns": null,
        "xColumns": null,
        "yColumns": null
       },
       "removedWidgets": [],
       "schema": [
        {
         "metadata": "{}",
         "name": "OrderID",
         "type": "\"integer\""
        },
        {
         "metadata": "{}",
         "name": "OrderDate",
         "type": "\"date\""
        },
        {
         "metadata": "{}",
         "name": "CustomerID",
         "type": "\"integer\""
        },
        {
         "metadata": "{}",
         "name": "CustomerName",
         "type": "\"string\""
        },
        {
         "metadata": "{}",
         "name": "CustomerEmail",
         "type": "\"string\""
        },
        {
         "metadata": "{}",
         "name": "ProductID",
         "type": "\"integer\""
        },
        {
         "metadata": "{}",
         "name": "ProductName",
         "type": "\"string\""
        },
        {
         "metadata": "{}",
         "name": "ProductCategory",
         "type": "\"string\""
        },
        {
         "metadata": "{}",
         "name": "RegionID",
         "type": "\"integer\""
        },
        {
         "metadata": "{}",
         "name": "RegionName",
         "type": "\"string\""
        },
        {
         "metadata": "{}",
         "name": "Country",
         "type": "\"string\""
        },
        {
         "metadata": "{}",
         "name": "Quantity",
         "type": "\"integer\""
        },
        {
         "metadata": "{}",
         "name": "UnitPrice",
         "type": "\"decimal(10,2)\""
        },
        {
         "metadata": "{}",
         "name": "TotalAmount",
         "type": "\"decimal(10,2)\""
        }
       ],
       "type": "table"
      }
     },
     "output_type": "display_data"
    }
   ],
   "source": [
    "# Create or replace the staging table in SalesDWH\n",
    "spark.sql(\"\"\"\n",
    "    CREATE OR REPLACE TABLE SalesDWH.stg_sales AS\n",
    "    SELECT * FROM Sales.Orders\n",
    "    WHERE OrderDate > '2025-03-08'\n",
    "\"\"\")\n",
    "\n",
    "# Display the staging table to confirm the data is loaded\n",
    "display(spark.sql(\"SELECT * FROM SalesDWH.stg_sales\"))"
   ]
  },
  {
   "cell_type": "markdown",
   "metadata": {
    "application/vnd.databricks.v1+cell": {
     "cellMetadata": {},
     "inputWidgets": {},
     "nuid": "5c4552b5-ad40-4274-aaff-cf193fae9fe4",
     "showTitle": false,
     "tableResultSettingsMap": {},
     "title": ""
    }
   },
   "source": [
    "## Transformation Layer\n"
   ]
  },
  {
   "cell_type": "code",
   "execution_count": 0,
   "metadata": {
    "application/vnd.databricks.v1+cell": {
     "cellMetadata": {
      "byteLimit": 2048000,
      "rowLimit": 10000
     },
     "inputWidgets": {},
     "nuid": "33809dad-80fe-4711-b307-e9e46e734c54",
     "showTitle": false,
     "tableResultSettingsMap": {},
     "title": ""
    }
   },
   "outputs": [
    {
     "output_type": "display_data",
     "data": {
      "text/html": [
       "<style scoped>\n",
       "  .table-result-container {\n",
       "    max-height: 300px;\n",
       "    overflow: auto;\n",
       "  }\n",
       "  table, th, td {\n",
       "    border: 1px solid black;\n",
       "    border-collapse: collapse;\n",
       "  }\n",
       "  th, td {\n",
       "    padding: 5px;\n",
       "  }\n",
       "  th {\n",
       "    text-align: left;\n",
       "  }\n",
       "</style><div class='table-result-container'><table class='table-result'><thead style='background-color: white'><tr><th>OrderID</th><th>OrderDate</th><th>CustomerID</th><th>CustomerName</th><th>CustomerEmail</th><th>ProductID</th><th>ProductName</th><th>ProductCategory</th><th>RegionID</th><th>RegionName</th><th>Country</th><th>Quantity</th><th>UnitPrice</th><th>TotalAmount</th></tr></thead><tbody><tr><td>11</td><td>2025-03-11</td><td>209</td><td>Liam Harris</td><td>liam.harris@example.com</td><td>310</td><td>Printer</td><td>Electronics</td><td>402</td><td>Europe</td><td>Germany</td><td>1</td><td>150.00</td><td>150.00</td></tr><tr><td>12</td><td>2025-03-12</td><td>210</td><td>Sophia Clark</td><td>sophia.clark@example.com</td><td>311</td><td>External Hard Drive</td><td>Accessories</td><td>403</td><td>Asia</td><td>India</td><td>2</td><td>120.00</td><td>240.00</td></tr><tr><td>13</td><td>2025-03-13</td><td>211</td><td>Benjamin Lewis</td><td>benjamin.lewis@example.com</td><td>312</td><td>Graphics Card</td><td>Electronics</td><td>401</td><td>North America</td><td>Canada</td><td>1</td><td>700.00</td><td>700.00</td></tr><tr><td>11</td><td>2025-03-11</td><td>209</td><td>Liam Harris</td><td>liam.harris@example.com</td><td>310</td><td>Printer</td><td>Electronics</td><td>402</td><td>Europe</td><td>Germany</td><td>1</td><td>150.00</td><td>150.00</td></tr><tr><td>12</td><td>2025-03-12</td><td>210</td><td>Sophia Clark</td><td>sophia.clark@example.com</td><td>311</td><td>External Hard Drive</td><td>Accessories</td><td>403</td><td>Asia</td><td>India</td><td>2</td><td>120.00</td><td>240.00</td></tr><tr><td>13</td><td>2025-03-13</td><td>211</td><td>Benjamin Lewis</td><td>benjamin.lewis@example.com</td><td>312</td><td>Graphics Card</td><td>Electronics</td><td>401</td><td>North America</td><td>Canada</td><td>1</td><td>700.00</td><td>700.00</td></tr><tr><td>16</td><td>2025-03-16</td><td>214</td><td>Mia Allen</td><td>mia.allen@example.com</td><td>315</td><td>USB Flash Drive</td><td>Accessories</td><td>401</td><td>North America</td><td>USA</td><td>5</td><td>20.00</td><td>100.00</td></tr><tr><td>17</td><td>2025-03-17</td><td>215</td><td>Noah King</td><td>noah.king@example.com</td><td>316</td><td>Projector</td><td>Electronics</td><td>402</td><td>Europe</td><td>UK</td><td>1</td><td>400.00</td><td>400.00</td></tr><tr><td>18</td><td>2025-03-18</td><td>216</td><td>Ava Scott</td><td>ava.scott@example.com</td><td>317</td><td>Speakers</td><td>Accessories</td><td>403</td><td>Asia</td><td>Japan</td><td>2</td><td>150.00</td><td>300.00</td></tr><tr><td>16</td><td>2025-03-16</td><td>214</td><td>Mia Allen</td><td>mia.allen@example.com</td><td>315</td><td>USB Flash Drive</td><td>Accessories</td><td>401</td><td>North America</td><td>USA</td><td>5</td><td>20.00</td><td>100.00</td></tr><tr><td>17</td><td>2025-03-17</td><td>215</td><td>Noah King</td><td>noah.king@example.com</td><td>316</td><td>Projector</td><td>Electronics</td><td>402</td><td>Europe</td><td>UK</td><td>1</td><td>400.00</td><td>400.00</td></tr><tr><td>18</td><td>2025-03-18</td><td>216</td><td>Ava Scott</td><td>ava.scott@example.com</td><td>317</td><td>Speakers</td><td>Accessories</td><td>403</td><td>Asia</td><td>Japan</td><td>2</td><td>150.00</td><td>300.00</td></tr><tr><td>9</td><td>2025-03-09</td><td>207</td><td>Daniel Martinez</td><td>daniel.martinez@example.com</td><td>308</td><td>Keyboard</td><td>Accessories</td><td>403</td><td>Asia</td><td>Japan</td><td>2</td><td>50.00</td><td>100.00</td></tr><tr><td>10</td><td>2025-03-10</td><td>208</td><td>Olivia White</td><td>olivia.white@example.com</td><td>309</td><td>Mouse</td><td>Accessories</td><td>401</td><td>North America</td><td>USA</td><td>1</td><td>40.00</td><td>40.00</td></tr><tr><td>9</td><td>2025-03-09</td><td>207</td><td>Daniel Martinez</td><td>daniel.martinez@example.com</td><td>308</td><td>Keyboard</td><td>Accessories</td><td>403</td><td>Asia</td><td>Japan</td><td>2</td><td>50.00</td><td>100.00</td></tr><tr><td>10</td><td>2025-03-10</td><td>208</td><td>Olivia White</td><td>olivia.white@example.com</td><td>309</td><td>Mouse</td><td>Accessories</td><td>401</td><td>North America</td><td>USA</td><td>1</td><td>40.00</td><td>40.00</td></tr><tr><td>14</td><td>2025-03-14</td><td>212</td><td>Emma Walker</td><td>emma.walker@example.com</td><td>313</td><td>Webcam</td><td>Accessories</td><td>402</td><td>Europe</td><td>France</td><td>1</td><td>80.00</td><td>80.00</td></tr><tr><td>15</td><td>2025-03-15</td><td>213</td><td>Lucas Hall</td><td>lucas.hall@example.com</td><td>314</td><td>Router</td><td>Electronics</td><td>403</td><td>Asia</td><td>China</td><td>2</td><td>90.00</td><td>180.00</td></tr><tr><td>14</td><td>2025-03-14</td><td>212</td><td>Emma Walker</td><td>emma.walker@example.com</td><td>313</td><td>Webcam</td><td>Accessories</td><td>402</td><td>Europe</td><td>France</td><td>1</td><td>80.00</td><td>80.00</td></tr><tr><td>15</td><td>2025-03-15</td><td>213</td><td>Lucas Hall</td><td>lucas.hall@example.com</td><td>314</td><td>Router</td><td>Electronics</td><td>403</td><td>Asia</td><td>China</td><td>2</td><td>90.00</td><td>180.00</td></tr></tbody></table></div>"
      ]
     },
     "metadata": {
      "application/vnd.databricks.v1+output": {
       "addedWidgets": {},
       "aggData": [],
       "aggError": "",
       "aggOverflow": false,
       "aggSchema": [],
       "aggSeriesLimitReached": false,
       "aggType": "",
       "arguments": {},
       "columnCustomDisplayInfos": {},
       "data": [
        [
         11,
         "2025-03-11",
         209,
         "Liam Harris",
         "liam.harris@example.com",
         310,
         "Printer",
         "Electronics",
         402,
         "Europe",
         "Germany",
         1,
         "150.00",
         "150.00"
        ],
        [
         12,
         "2025-03-12",
         210,
         "Sophia Clark",
         "sophia.clark@example.com",
         311,
         "External Hard Drive",
         "Accessories",
         403,
         "Asia",
         "India",
         2,
         "120.00",
         "240.00"
        ],
        [
         13,
         "2025-03-13",
         211,
         "Benjamin Lewis",
         "benjamin.lewis@example.com",
         312,
         "Graphics Card",
         "Electronics",
         401,
         "North America",
         "Canada",
         1,
         "700.00",
         "700.00"
        ],
        [
         11,
         "2025-03-11",
         209,
         "Liam Harris",
         "liam.harris@example.com",
         310,
         "Printer",
         "Electronics",
         402,
         "Europe",
         "Germany",
         1,
         "150.00",
         "150.00"
        ],
        [
         12,
         "2025-03-12",
         210,
         "Sophia Clark",
         "sophia.clark@example.com",
         311,
         "External Hard Drive",
         "Accessories",
         403,
         "Asia",
         "India",
         2,
         "120.00",
         "240.00"
        ],
        [
         13,
         "2025-03-13",
         211,
         "Benjamin Lewis",
         "benjamin.lewis@example.com",
         312,
         "Graphics Card",
         "Electronics",
         401,
         "North America",
         "Canada",
         1,
         "700.00",
         "700.00"
        ],
        [
         16,
         "2025-03-16",
         214,
         "Mia Allen",
         "mia.allen@example.com",
         315,
         "USB Flash Drive",
         "Accessories",
         401,
         "North America",
         "USA",
         5,
         "20.00",
         "100.00"
        ],
        [
         17,
         "2025-03-17",
         215,
         "Noah King",
         "noah.king@example.com",
         316,
         "Projector",
         "Electronics",
         402,
         "Europe",
         "UK",
         1,
         "400.00",
         "400.00"
        ],
        [
         18,
         "2025-03-18",
         216,
         "Ava Scott",
         "ava.scott@example.com",
         317,
         "Speakers",
         "Accessories",
         403,
         "Asia",
         "Japan",
         2,
         "150.00",
         "300.00"
        ],
        [
         16,
         "2025-03-16",
         214,
         "Mia Allen",
         "mia.allen@example.com",
         315,
         "USB Flash Drive",
         "Accessories",
         401,
         "North America",
         "USA",
         5,
         "20.00",
         "100.00"
        ],
        [
         17,
         "2025-03-17",
         215,
         "Noah King",
         "noah.king@example.com",
         316,
         "Projector",
         "Electronics",
         402,
         "Europe",
         "UK",
         1,
         "400.00",
         "400.00"
        ],
        [
         18,
         "2025-03-18",
         216,
         "Ava Scott",
         "ava.scott@example.com",
         317,
         "Speakers",
         "Accessories",
         403,
         "Asia",
         "Japan",
         2,
         "150.00",
         "300.00"
        ],
        [
         9,
         "2025-03-09",
         207,
         "Daniel Martinez",
         "daniel.martinez@example.com",
         308,
         "Keyboard",
         "Accessories",
         403,
         "Asia",
         "Japan",
         2,
         "50.00",
         "100.00"
        ],
        [
         10,
         "2025-03-10",
         208,
         "Olivia White",
         "olivia.white@example.com",
         309,
         "Mouse",
         "Accessories",
         401,
         "North America",
         "USA",
         1,
         "40.00",
         "40.00"
        ],
        [
         9,
         "2025-03-09",
         207,
         "Daniel Martinez",
         "daniel.martinez@example.com",
         308,
         "Keyboard",
         "Accessories",
         403,
         "Asia",
         "Japan",
         2,
         "50.00",
         "100.00"
        ],
        [
         10,
         "2025-03-10",
         208,
         "Olivia White",
         "olivia.white@example.com",
         309,
         "Mouse",
         "Accessories",
         401,
         "North America",
         "USA",
         1,
         "40.00",
         "40.00"
        ],
        [
         14,
         "2025-03-14",
         212,
         "Emma Walker",
         "emma.walker@example.com",
         313,
         "Webcam",
         "Accessories",
         402,
         "Europe",
         "France",
         1,
         "80.00",
         "80.00"
        ],
        [
         15,
         "2025-03-15",
         213,
         "Lucas Hall",
         "lucas.hall@example.com",
         314,
         "Router",
         "Electronics",
         403,
         "Asia",
         "China",
         2,
         "90.00",
         "180.00"
        ],
        [
         14,
         "2025-03-14",
         212,
         "Emma Walker",
         "emma.walker@example.com",
         313,
         "Webcam",
         "Accessories",
         402,
         "Europe",
         "France",
         1,
         "80.00",
         "80.00"
        ],
        [
         15,
         "2025-03-15",
         213,
         "Lucas Hall",
         "lucas.hall@example.com",
         314,
         "Router",
         "Electronics",
         403,
         "Asia",
         "China",
         2,
         "90.00",
         "180.00"
        ]
       ],
       "datasetInfos": [],
       "dbfsResultPath": null,
       "isJsonSchema": true,
       "metadata": {},
       "overflow": false,
       "plotOptions": {
        "customPlotOptions": {},
        "displayType": "table",
        "pivotAggregation": null,
        "pivotColumns": null,
        "xColumns": null,
        "yColumns": null
       },
       "removedWidgets": [],
       "schema": [
        {
         "metadata": "{}",
         "name": "OrderID",
         "type": "\"integer\""
        },
        {
         "metadata": "{}",
         "name": "OrderDate",
         "type": "\"date\""
        },
        {
         "metadata": "{}",
         "name": "CustomerID",
         "type": "\"integer\""
        },
        {
         "metadata": "{}",
         "name": "CustomerName",
         "type": "\"string\""
        },
        {
         "metadata": "{}",
         "name": "CustomerEmail",
         "type": "\"string\""
        },
        {
         "metadata": "{}",
         "name": "ProductID",
         "type": "\"integer\""
        },
        {
         "metadata": "{}",
         "name": "ProductName",
         "type": "\"string\""
        },
        {
         "metadata": "{}",
         "name": "ProductCategory",
         "type": "\"string\""
        },
        {
         "metadata": "{}",
         "name": "RegionID",
         "type": "\"integer\""
        },
        {
         "metadata": "{}",
         "name": "RegionName",
         "type": "\"string\""
        },
        {
         "metadata": "{}",
         "name": "Country",
         "type": "\"string\""
        },
        {
         "metadata": "{}",
         "name": "Quantity",
         "type": "\"integer\""
        },
        {
         "metadata": "{}",
         "name": "UnitPrice",
         "type": "\"decimal(10,2)\""
        },
        {
         "metadata": "{}",
         "name": "TotalAmount",
         "type": "\"decimal(10,2)\""
        }
       ],
       "type": "table"
      }
     },
     "output_type": "display_data"
    }
   ],
   "source": [
    "# Create a view for transformed sales data\n",
    "spark.sql(\"\"\"\n",
    "    CREATE OR REPLACE VIEW SalesDWH.trans_sales AS\n",
    "    SELECT * FROM SalesDWH.stg_sales\n",
    "    WHERE Quantity IS NOT NULL\n",
    "\"\"\")\n",
    "\n",
    "# Display the view to verify the data\n",
    "display(spark.sql(\"SELECT * FROM SalesDWH.trans_sales\"))"
   ]
  },
  {
   "cell_type": "markdown",
   "metadata": {
    "application/vnd.databricks.v1+cell": {
     "cellMetadata": {},
     "inputWidgets": {},
     "nuid": "416acde3-7ac0-47bc-ac44-0a7330742746",
     "showTitle": false,
     "tableResultSettingsMap": {},
     "title": ""
    }
   },
   "source": [
    "## Core Layer\n"
   ]
  },
  {
   "cell_type": "markdown",
   "metadata": {
    "application/vnd.databricks.v1+cell": {
     "cellMetadata": {},
     "inputWidgets": {},
     "nuid": "96a5eb41-7c4b-44e4-b4a8-b7da350cd023",
     "showTitle": false,
     "tableResultSettingsMap": {},
     "title": ""
    }
   },
   "source": [
    "# Dimensional Modeling"
   ]
  },
  {
   "cell_type": "markdown",
   "metadata": {
    "application/vnd.databricks.v1+cell": {
     "cellMetadata": {},
     "inputWidgets": {},
     "nuid": "9eeb4c2c-a3d7-4f47-a7f6-993a8c339f67",
     "showTitle": false,
     "tableResultSettingsMap": {},
     "title": ""
    }
   },
   "source": [
    "### Dim customers"
   ]
  },
  {
   "cell_type": "code",
   "execution_count": 0,
   "metadata": {
    "application/vnd.databricks.v1+cell": {
     "cellMetadata": {
      "byteLimit": 2048000,
      "implicitDf": true,
      "rowLimit": 10000
     },
     "inputWidgets": {},
     "nuid": "a42b6cd5-2de7-4c21-96b7-32f6bce9ad8e",
     "showTitle": false,
     "tableResultSettingsMap": {},
     "title": ""
    }
   },
   "outputs": [
    {
     "output_type": "display_data",
     "data": {
      "text/html": [
       "<style scoped>\n",
       "  .table-result-container {\n",
       "    max-height: 300px;\n",
       "    overflow: auto;\n",
       "  }\n",
       "  table, th, td {\n",
       "    border: 1px solid black;\n",
       "    border-collapse: collapse;\n",
       "  }\n",
       "  th, td {\n",
       "    padding: 5px;\n",
       "  }\n",
       "  th {\n",
       "    text-align: left;\n",
       "  }\n",
       "</style><div class='table-result-container'><table class='table-result'><thead style='background-color: white'><tr><th>col_name</th><th>data_type</th><th>comment</th></tr></thead><tbody><tr><td>DimCustomersKey</td><td>int</td><td>null</td></tr><tr><td>CustomerID</td><td>int</td><td>null</td></tr><tr><td>CustomerName</td><td>string</td><td>null</td></tr><tr><td>CustomerEmail</td><td>string</td><td>null</td></tr></tbody></table></div>"
      ]
     },
     "metadata": {
      "application/vnd.databricks.v1+output": {
       "addedWidgets": {},
       "aggData": [],
       "aggError": "",
       "aggOverflow": false,
       "aggSchema": [],
       "aggSeriesLimitReached": false,
       "aggType": "",
       "arguments": {},
       "columnCustomDisplayInfos": {},
       "data": [
        [
         "DimCustomersKey",
         "int",
         null
        ],
        [
         "CustomerID",
         "int",
         null
        ],
        [
         "CustomerName",
         "string",
         null
        ],
        [
         "CustomerEmail",
         "string",
         null
        ]
       ],
       "datasetInfos": [],
       "dbfsResultPath": null,
       "isJsonSchema": true,
       "metadata": {},
       "overflow": false,
       "plotOptions": {
        "customPlotOptions": {},
        "displayType": "table",
        "pivotAggregation": null,
        "pivotColumns": null,
        "xColumns": null,
        "yColumns": null
       },
       "removedWidgets": [],
       "schema": [
        {
         "metadata": "{\"comment\":\"name of the column\"}",
         "name": "col_name",
         "type": "\"string\""
        },
        {
         "metadata": "{\"comment\":\"data type of the column\"}",
         "name": "data_type",
         "type": "\"string\""
        },
        {
         "metadata": "{\"comment\":\"comment of the column\"}",
         "name": "comment",
         "type": "\"string\""
        }
       ],
       "type": "table"
      }
     },
     "output_type": "display_data"
    }
   ],
   "source": [
    "# Create the DimCustomers dimension table\n",
    "spark.sql(\"\"\"\n",
    "    CREATE OR REPLACE TABLE SalesDWH.DimCustomers (\n",
    "        DimCustomersKey INT,\n",
    "        CustomerID INT,\n",
    "        CustomerName STRING,\n",
    "        CustomerEmail STRING\n",
    "    )\n",
    "\"\"\")\n",
    "\n",
    "# Verify if the table is created successfully\n",
    "display(spark.sql(\"DESCRIBE TABLE SalesDWH.DimCustomers\"))"
   ]
  },
  {
   "cell_type": "code",
   "execution_count": 0,
   "metadata": {
    "application/vnd.databricks.v1+cell": {
     "cellMetadata": {
      "byteLimit": 2048000,
      "rowLimit": 10000
     },
     "inputWidgets": {},
     "nuid": "3473af95-1616-4c59-a947-a438ee09e552",
     "showTitle": false,
     "tableResultSettingsMap": {},
     "title": ""
    }
   },
   "outputs": [
    {
     "output_type": "display_data",
     "data": {
      "text/html": [
       "<style scoped>\n",
       "  .table-result-container {\n",
       "    max-height: 300px;\n",
       "    overflow: auto;\n",
       "  }\n",
       "  table, th, td {\n",
       "    border: 1px solid black;\n",
       "    border-collapse: collapse;\n",
       "  }\n",
       "  th, td {\n",
       "    padding: 5px;\n",
       "  }\n",
       "  th {\n",
       "    text-align: left;\n",
       "  }\n",
       "</style><div class='table-result-container'><table class='table-result'><thead style='background-color: white'><tr><th>DimCustomersKey</th><th>CustomerID</th><th>CustomerName</th><th>CustomerEmail</th></tr></thead><tbody><tr><td>1</td><td>207</td><td>Daniel Martinez</td><td>daniel.martinez@example.com</td></tr><tr><td>2</td><td>208</td><td>Olivia White</td><td>olivia.white@example.com</td></tr><tr><td>3</td><td>209</td><td>Liam Harris</td><td>liam.harris@example.com</td></tr><tr><td>4</td><td>210</td><td>Sophia Clark</td><td>sophia.clark@example.com</td></tr><tr><td>5</td><td>211</td><td>Benjamin Lewis</td><td>benjamin.lewis@example.com</td></tr><tr><td>6</td><td>212</td><td>Emma Walker</td><td>emma.walker@example.com</td></tr><tr><td>7</td><td>213</td><td>Lucas Hall</td><td>lucas.hall@example.com</td></tr><tr><td>8</td><td>214</td><td>Mia Allen</td><td>mia.allen@example.com</td></tr><tr><td>9</td><td>215</td><td>Noah King</td><td>noah.king@example.com</td></tr><tr><td>10</td><td>216</td><td>Ava Scott</td><td>ava.scott@example.com</td></tr></tbody></table></div>"
      ]
     },
     "metadata": {
      "application/vnd.databricks.v1+output": {
       "addedWidgets": {},
       "aggData": [],
       "aggError": "",
       "aggOverflow": false,
       "aggSchema": [],
       "aggSeriesLimitReached": false,
       "aggType": "",
       "arguments": {},
       "columnCustomDisplayInfos": {},
       "data": [
        [
         1,
         207,
         "Daniel Martinez",
         "daniel.martinez@example.com"
        ],
        [
         2,
         208,
         "Olivia White",
         "olivia.white@example.com"
        ],
        [
         3,
         209,
         "Liam Harris",
         "liam.harris@example.com"
        ],
        [
         4,
         210,
         "Sophia Clark",
         "sophia.clark@example.com"
        ],
        [
         5,
         211,
         "Benjamin Lewis",
         "benjamin.lewis@example.com"
        ],
        [
         6,
         212,
         "Emma Walker",
         "emma.walker@example.com"
        ],
        [
         7,
         213,
         "Lucas Hall",
         "lucas.hall@example.com"
        ],
        [
         8,
         214,
         "Mia Allen",
         "mia.allen@example.com"
        ],
        [
         9,
         215,
         "Noah King",
         "noah.king@example.com"
        ],
        [
         10,
         216,
         "Ava Scott",
         "ava.scott@example.com"
        ]
       ],
       "datasetInfos": [],
       "dbfsResultPath": null,
       "isJsonSchema": true,
       "metadata": {},
       "overflow": false,
       "plotOptions": {
        "customPlotOptions": {},
        "displayType": "table",
        "pivotAggregation": null,
        "pivotColumns": null,
        "xColumns": null,
        "yColumns": null
       },
       "removedWidgets": [],
       "schema": [
        {
         "metadata": "{}",
         "name": "DimCustomersKey",
         "type": "\"integer\""
        },
        {
         "metadata": "{}",
         "name": "CustomerID",
         "type": "\"integer\""
        },
        {
         "metadata": "{}",
         "name": "CustomerName",
         "type": "\"string\""
        },
        {
         "metadata": "{}",
         "name": "CustomerEmail",
         "type": "\"string\""
        }
       ],
       "type": "table"
      }
     },
     "output_type": "display_data"
    }
   ],
   "source": [
    "# Create the view for DimCustomers\n",
    "spark.sql(\"\"\"\n",
    "    CREATE OR REPLACE VIEW SalesDWH.view_DimCustomers AS \n",
    "    SELECT \n",
    "        row_number() OVER (ORDER BY T.CustomerID) AS DimCustomersKey, \n",
    "        T.* \n",
    "    FROM (\n",
    "        SELECT DISTINCT CustomerID, CustomerName, CustomerEmail\n",
    "        FROM SalesDWH.trans_sales\n",
    "    ) AS T\n",
    "\"\"\")\n",
    "\n",
    "# Verify if the view is created successfully\n",
    "display(spark.sql(\"SELECT * FROM SalesDWH.view_DimCustomers\"))"
   ]
  },
  {
   "cell_type": "code",
   "execution_count": 0,
   "metadata": {
    "application/vnd.databricks.v1+cell": {
     "cellMetadata": {
      "byteLimit": 2048000,
      "rowLimit": 10000
     },
     "inputWidgets": {},
     "nuid": "ec12060d-cff6-45c5-8c71-d12e9e00e6f7",
     "showTitle": false,
     "tableResultSettingsMap": {},
     "title": ""
    }
   },
   "outputs": [
    {
     "output_type": "display_data",
     "data": {
      "text/html": [
       "<style scoped>\n",
       "  .table-result-container {\n",
       "    max-height: 300px;\n",
       "    overflow: auto;\n",
       "  }\n",
       "  table, th, td {\n",
       "    border: 1px solid black;\n",
       "    border-collapse: collapse;\n",
       "  }\n",
       "  th, td {\n",
       "    padding: 5px;\n",
       "  }\n",
       "  th {\n",
       "    text-align: left;\n",
       "  }\n",
       "</style><div class='table-result-container'><table class='table-result'><thead style='background-color: white'><tr><th>DimCustomersKey</th><th>CustomerID</th><th>CustomerName</th><th>CustomerEmail</th></tr></thead><tbody><tr><td>1</td><td>207</td><td>Daniel Martinez</td><td>daniel.martinez@example.com</td></tr><tr><td>2</td><td>208</td><td>Olivia White</td><td>olivia.white@example.com</td></tr><tr><td>3</td><td>209</td><td>Liam Harris</td><td>liam.harris@example.com</td></tr><tr><td>4</td><td>210</td><td>Sophia Clark</td><td>sophia.clark@example.com</td></tr><tr><td>5</td><td>211</td><td>Benjamin Lewis</td><td>benjamin.lewis@example.com</td></tr><tr><td>6</td><td>212</td><td>Emma Walker</td><td>emma.walker@example.com</td></tr><tr><td>7</td><td>213</td><td>Lucas Hall</td><td>lucas.hall@example.com</td></tr><tr><td>8</td><td>214</td><td>Mia Allen</td><td>mia.allen@example.com</td></tr><tr><td>9</td><td>215</td><td>Noah King</td><td>noah.king@example.com</td></tr><tr><td>10</td><td>216</td><td>Ava Scott</td><td>ava.scott@example.com</td></tr></tbody></table></div>"
      ]
     },
     "metadata": {
      "application/vnd.databricks.v1+output": {
       "addedWidgets": {},
       "aggData": [],
       "aggError": "",
       "aggOverflow": false,
       "aggSchema": [],
       "aggSeriesLimitReached": false,
       "aggType": "",
       "arguments": {},
       "columnCustomDisplayInfos": {},
       "data": [
        [
         1,
         207,
         "Daniel Martinez",
         "daniel.martinez@example.com"
        ],
        [
         2,
         208,
         "Olivia White",
         "olivia.white@example.com"
        ],
        [
         3,
         209,
         "Liam Harris",
         "liam.harris@example.com"
        ],
        [
         4,
         210,
         "Sophia Clark",
         "sophia.clark@example.com"
        ],
        [
         5,
         211,
         "Benjamin Lewis",
         "benjamin.lewis@example.com"
        ],
        [
         6,
         212,
         "Emma Walker",
         "emma.walker@example.com"
        ],
        [
         7,
         213,
         "Lucas Hall",
         "lucas.hall@example.com"
        ],
        [
         8,
         214,
         "Mia Allen",
         "mia.allen@example.com"
        ],
        [
         9,
         215,
         "Noah King",
         "noah.king@example.com"
        ],
        [
         10,
         216,
         "Ava Scott",
         "ava.scott@example.com"
        ]
       ],
       "datasetInfos": [],
       "dbfsResultPath": null,
       "isJsonSchema": true,
       "metadata": {},
       "overflow": false,
       "plotOptions": {
        "customPlotOptions": {},
        "displayType": "table",
        "pivotAggregation": null,
        "pivotColumns": null,
        "xColumns": null,
        "yColumns": null
       },
       "removedWidgets": [],
       "schema": [
        {
         "metadata": "{}",
         "name": "DimCustomersKey",
         "type": "\"integer\""
        },
        {
         "metadata": "{}",
         "name": "CustomerID",
         "type": "\"integer\""
        },
        {
         "metadata": "{}",
         "name": "CustomerName",
         "type": "\"string\""
        },
        {
         "metadata": "{}",
         "name": "CustomerEmail",
         "type": "\"string\""
        }
       ],
       "type": "table"
      }
     },
     "output_type": "display_data"
    }
   ],
   "source": [
    "# Insert data from the view into the DimCustomers table\n",
    "spark.sql(\"\"\"\n",
    "    INSERT INTO SalesDWH.DimCustomers\n",
    "    SELECT * FROM SalesDWH.view_DimCustomers\n",
    "\"\"\")\n",
    "\n",
    "# Verify insertion\n",
    "display(spark.sql(\"SELECT * FROM SalesDWH.DimCustomers\"))"
   ]
  },
  {
   "cell_type": "markdown",
   "metadata": {
    "application/vnd.databricks.v1+cell": {
     "cellMetadata": {},
     "inputWidgets": {},
     "nuid": "5ee119be-dde1-4aba-8977-8708c1c422a8",
     "showTitle": false,
     "tableResultSettingsMap": {},
     "title": ""
    }
   },
   "source": [
    "### Dim Products"
   ]
  },
  {
   "cell_type": "code",
   "execution_count": 0,
   "metadata": {
    "application/vnd.databricks.v1+cell": {
     "cellMetadata": {
      "byteLimit": 2048000,
      "rowLimit": 10000
     },
     "inputWidgets": {},
     "nuid": "85ab704f-9230-4c83-b861-f2d7389d2e19",
     "showTitle": false,
     "tableResultSettingsMap": {},
     "title": ""
    }
   },
   "outputs": [
    {
     "output_type": "display_data",
     "data": {
      "text/html": [
       "<style scoped>\n",
       "  .table-result-container {\n",
       "    max-height: 300px;\n",
       "    overflow: auto;\n",
       "  }\n",
       "  table, th, td {\n",
       "    border: 1px solid black;\n",
       "    border-collapse: collapse;\n",
       "  }\n",
       "  th, td {\n",
       "    padding: 5px;\n",
       "  }\n",
       "  th {\n",
       "    text-align: left;\n",
       "  }\n",
       "</style><div class='table-result-container'><table class='table-result'><thead style='background-color: white'><tr><th>database</th><th>tableName</th><th>isTemporary</th></tr></thead><tbody><tr><td>salesdwh</td><td>dimcustomers</td><td>false</td></tr><tr><td>salesdwh</td><td>dimproducts</td><td>false</td></tr><tr><td>salesdwh</td><td>stg_sales</td><td>false</td></tr><tr><td>salesdwh</td><td>trans_sales</td><td>false</td></tr><tr><td>salesdwh</td><td>view_dimcustomers</td><td>false</td></tr></tbody></table></div>"
      ]
     },
     "metadata": {
      "application/vnd.databricks.v1+output": {
       "addedWidgets": {},
       "aggData": [],
       "aggError": "",
       "aggOverflow": false,
       "aggSchema": [],
       "aggSeriesLimitReached": false,
       "aggType": "",
       "arguments": {},
       "columnCustomDisplayInfos": {},
       "data": [
        [
         "salesdwh",
         "dimcustomers",
         false
        ],
        [
         "salesdwh",
         "dimproducts",
         false
        ],
        [
         "salesdwh",
         "stg_sales",
         false
        ],
        [
         "salesdwh",
         "trans_sales",
         false
        ],
        [
         "salesdwh",
         "view_dimcustomers",
         false
        ]
       ],
       "datasetInfos": [],
       "dbfsResultPath": null,
       "isJsonSchema": true,
       "metadata": {},
       "overflow": false,
       "plotOptions": {
        "customPlotOptions": {},
        "displayType": "table",
        "pivotAggregation": null,
        "pivotColumns": null,
        "xColumns": null,
        "yColumns": null
       },
       "removedWidgets": [],
       "schema": [
        {
         "metadata": "{}",
         "name": "database",
         "type": "\"string\""
        },
        {
         "metadata": "{}",
         "name": "tableName",
         "type": "\"string\""
        },
        {
         "metadata": "{}",
         "name": "isTemporary",
         "type": "\"boolean\""
        }
       ],
       "type": "table"
      }
     },
     "output_type": "display_data"
    }
   ],
   "source": [
    "# Create or replace the DimProducts table\n",
    "spark.sql(\"\"\"\n",
    "    CREATE OR REPLACE TABLE SalesDWH.DimProducts (\n",
    "        DimProductKey INT,\n",
    "        ProductID INT,\n",
    "        ProductName STRING,\n",
    "        ProductCategory STRING\n",
    "    )\n",
    "\"\"\")\n",
    "\n",
    "# Verify table creation\n",
    "display(spark.sql(\"SHOW TABLES IN SalesDWH\"))"
   ]
  },
  {
   "cell_type": "code",
   "execution_count": 0,
   "metadata": {
    "application/vnd.databricks.v1+cell": {
     "cellMetadata": {
      "byteLimit": 2048000,
      "rowLimit": 10000
     },
     "inputWidgets": {},
     "nuid": "85e97bba-1ec1-4ff4-96f7-a5773929cf23",
     "showTitle": false,
     "tableResultSettingsMap": {},
     "title": ""
    }
   },
   "outputs": [
    {
     "output_type": "display_data",
     "data": {
      "text/html": [
       "<style scoped>\n",
       "  .table-result-container {\n",
       "    max-height: 300px;\n",
       "    overflow: auto;\n",
       "  }\n",
       "  table, th, td {\n",
       "    border: 1px solid black;\n",
       "    border-collapse: collapse;\n",
       "  }\n",
       "  th, td {\n",
       "    padding: 5px;\n",
       "  }\n",
       "  th {\n",
       "    text-align: left;\n",
       "  }\n",
       "</style><div class='table-result-container'><table class='table-result'><thead style='background-color: white'><tr><th>namespace</th><th>viewName</th><th>isTemporary</th><th>isMaterialized</th></tr></thead><tbody><tr><td>salesdwh</td><td>trans_sales</td><td>false</td><td>false</td></tr><tr><td>salesdwh</td><td>view_dimcustomers</td><td>false</td><td>false</td></tr><tr><td>salesdwh</td><td>view_dimproduct</td><td>false</td><td>false</td></tr></tbody></table></div>"
      ]
     },
     "metadata": {
      "application/vnd.databricks.v1+output": {
       "addedWidgets": {},
       "aggData": [],
       "aggError": "",
       "aggOverflow": false,
       "aggSchema": [],
       "aggSeriesLimitReached": false,
       "aggType": "",
       "arguments": {},
       "columnCustomDisplayInfos": {},
       "data": [
        [
         "salesdwh",
         "trans_sales",
         false,
         false
        ],
        [
         "salesdwh",
         "view_dimcustomers",
         false,
         false
        ],
        [
         "salesdwh",
         "view_dimproduct",
         false,
         false
        ]
       ],
       "datasetInfos": [],
       "dbfsResultPath": null,
       "isJsonSchema": true,
       "metadata": {},
       "overflow": false,
       "plotOptions": {
        "customPlotOptions": {},
        "displayType": "table",
        "pivotAggregation": null,
        "pivotColumns": null,
        "xColumns": null,
        "yColumns": null
       },
       "removedWidgets": [],
       "schema": [
        {
         "metadata": "{}",
         "name": "namespace",
         "type": "\"string\""
        },
        {
         "metadata": "{}",
         "name": "viewName",
         "type": "\"string\""
        },
        {
         "metadata": "{}",
         "name": "isTemporary",
         "type": "\"boolean\""
        },
        {
         "metadata": "{}",
         "name": "isMaterialized",
         "type": "\"boolean\""
        }
       ],
       "type": "table"
      }
     },
     "output_type": "display_data"
    }
   ],
   "source": [
    "# Create or replace the view for DimProduct\n",
    "spark.sql(\"\"\"\n",
    "    CREATE OR REPLACE VIEW SalesDWH.view_DimProduct AS\n",
    "    SELECT row_number() OVER (ORDER BY T.ProductID) AS DimProductKey, T.*\n",
    "    FROM (\n",
    "        SELECT DISTINCT(ProductID) AS ProductID, \n",
    "               ProductName, \n",
    "               ProductCategory\n",
    "        FROM SalesDWH.trans_sales\n",
    "    ) AS T\n",
    "\"\"\")\n",
    "\n",
    "# Verify view creation\n",
    "display(spark.sql(\"SHOW VIEWS IN SalesDWH\"))"
   ]
  },
  {
   "cell_type": "code",
   "execution_count": 0,
   "metadata": {
    "application/vnd.databricks.v1+cell": {
     "cellMetadata": {
      "byteLimit": 2048000,
      "rowLimit": 10000
     },
     "inputWidgets": {},
     "nuid": "815f744e-2e57-4eba-8972-c74d15695d81",
     "showTitle": false,
     "tableResultSettingsMap": {},
     "title": ""
    }
   },
   "outputs": [
    {
     "output_type": "display_data",
     "data": {
      "text/html": [
       "<style scoped>\n",
       "  .table-result-container {\n",
       "    max-height: 300px;\n",
       "    overflow: auto;\n",
       "  }\n",
       "  table, th, td {\n",
       "    border: 1px solid black;\n",
       "    border-collapse: collapse;\n",
       "  }\n",
       "  th, td {\n",
       "    padding: 5px;\n",
       "  }\n",
       "  th {\n",
       "    text-align: left;\n",
       "  }\n",
       "</style><div class='table-result-container'><table class='table-result'><thead style='background-color: white'><tr><th>DimProductKey</th><th>ProductID</th><th>ProductName</th><th>ProductCategory</th></tr></thead><tbody><tr><td>1</td><td>308</td><td>Keyboard</td><td>Accessories</td></tr><tr><td>2</td><td>309</td><td>Mouse</td><td>Accessories</td></tr><tr><td>3</td><td>310</td><td>Printer</td><td>Electronics</td></tr><tr><td>4</td><td>311</td><td>External Hard Drive</td><td>Accessories</td></tr><tr><td>5</td><td>312</td><td>Graphics Card</td><td>Electronics</td></tr><tr><td>6</td><td>313</td><td>Webcam</td><td>Accessories</td></tr><tr><td>7</td><td>314</td><td>Router</td><td>Electronics</td></tr><tr><td>8</td><td>315</td><td>USB Flash Drive</td><td>Accessories</td></tr><tr><td>9</td><td>316</td><td>Projector</td><td>Electronics</td></tr><tr><td>10</td><td>317</td><td>Speakers</td><td>Accessories</td></tr></tbody></table></div>"
      ]
     },
     "metadata": {
      "application/vnd.databricks.v1+output": {
       "addedWidgets": {},
       "aggData": [],
       "aggError": "",
       "aggOverflow": false,
       "aggSchema": [],
       "aggSeriesLimitReached": false,
       "aggType": "",
       "arguments": {},
       "columnCustomDisplayInfos": {},
       "data": [
        [
         1,
         308,
         "Keyboard",
         "Accessories"
        ],
        [
         2,
         309,
         "Mouse",
         "Accessories"
        ],
        [
         3,
         310,
         "Printer",
         "Electronics"
        ],
        [
         4,
         311,
         "External Hard Drive",
         "Accessories"
        ],
        [
         5,
         312,
         "Graphics Card",
         "Electronics"
        ],
        [
         6,
         313,
         "Webcam",
         "Accessories"
        ],
        [
         7,
         314,
         "Router",
         "Electronics"
        ],
        [
         8,
         315,
         "USB Flash Drive",
         "Accessories"
        ],
        [
         9,
         316,
         "Projector",
         "Electronics"
        ],
        [
         10,
         317,
         "Speakers",
         "Accessories"
        ]
       ],
       "datasetInfos": [],
       "dbfsResultPath": null,
       "isJsonSchema": true,
       "metadata": {},
       "overflow": false,
       "plotOptions": {
        "customPlotOptions": {},
        "displayType": "table",
        "pivotAggregation": null,
        "pivotColumns": null,
        "xColumns": null,
        "yColumns": null
       },
       "removedWidgets": [],
       "schema": [
        {
         "metadata": "{}",
         "name": "DimProductKey",
         "type": "\"integer\""
        },
        {
         "metadata": "{}",
         "name": "ProductID",
         "type": "\"integer\""
        },
        {
         "metadata": "{}",
         "name": "ProductName",
         "type": "\"string\""
        },
        {
         "metadata": "{}",
         "name": "ProductCategory",
         "type": "\"string\""
        }
       ],
       "type": "table"
      }
     },
     "output_type": "display_data"
    }
   ],
   "source": [
    "# Insert data into DimProducts table\n",
    "spark.sql(\"\"\"\n",
    "    INSERT INTO SalesDWH.DimProducts\n",
    "    SELECT * FROM SalesDWH.view_DimProduct\n",
    "\"\"\")\n",
    "\n",
    "# Verify data insertion\n",
    "display(spark.sql(\"SELECT * FROM SalesDWH.DimProducts\"))"
   ]
  },
  {
   "cell_type": "markdown",
   "metadata": {
    "application/vnd.databricks.v1+cell": {
     "cellMetadata": {},
     "inputWidgets": {},
     "nuid": "3264a695-68ec-4409-a6e2-849e7a531fa6",
     "showTitle": false,
     "tableResultSettingsMap": {},
     "title": ""
    }
   },
   "source": [
    "### Dim Region\n"
   ]
  },
  {
   "cell_type": "code",
   "execution_count": 0,
   "metadata": {
    "application/vnd.databricks.v1+cell": {
     "cellMetadata": {
      "byteLimit": 2048000,
      "rowLimit": 10000
     },
     "inputWidgets": {},
     "nuid": "56858bd6-f32c-4f12-a995-3bfe2a19bf17",
     "showTitle": false,
     "tableResultSettingsMap": {},
     "title": ""
    }
   },
   "outputs": [
    {
     "output_type": "display_data",
     "data": {
      "text/html": [
       "<style scoped>\n",
       "  .table-result-container {\n",
       "    max-height: 300px;\n",
       "    overflow: auto;\n",
       "  }\n",
       "  table, th, td {\n",
       "    border: 1px solid black;\n",
       "    border-collapse: collapse;\n",
       "  }\n",
       "  th, td {\n",
       "    padding: 5px;\n",
       "  }\n",
       "  th {\n",
       "    text-align: left;\n",
       "  }\n",
       "</style><div class='table-result-container'><table class='table-result'><thead style='background-color: white'><tr><th>database</th><th>tableName</th><th>isTemporary</th></tr></thead><tbody><tr><td>salesdwh</td><td>dimcustomers</td><td>false</td></tr><tr><td>salesdwh</td><td>dimproducts</td><td>false</td></tr><tr><td>salesdwh</td><td>dimregion</td><td>false</td></tr><tr><td>salesdwh</td><td>stg_sales</td><td>false</td></tr><tr><td>salesdwh</td><td>trans_sales</td><td>false</td></tr><tr><td>salesdwh</td><td>view_dimcustomers</td><td>false</td></tr><tr><td>salesdwh</td><td>view_dimproduct</td><td>false</td></tr></tbody></table></div>"
      ]
     },
     "metadata": {
      "application/vnd.databricks.v1+output": {
       "addedWidgets": {},
       "aggData": [],
       "aggError": "",
       "aggOverflow": false,
       "aggSchema": [],
       "aggSeriesLimitReached": false,
       "aggType": "",
       "arguments": {},
       "columnCustomDisplayInfos": {},
       "data": [
        [
         "salesdwh",
         "dimcustomers",
         false
        ],
        [
         "salesdwh",
         "dimproducts",
         false
        ],
        [
         "salesdwh",
         "dimregion",
         false
        ],
        [
         "salesdwh",
         "stg_sales",
         false
        ],
        [
         "salesdwh",
         "trans_sales",
         false
        ],
        [
         "salesdwh",
         "view_dimcustomers",
         false
        ],
        [
         "salesdwh",
         "view_dimproduct",
         false
        ]
       ],
       "datasetInfos": [],
       "dbfsResultPath": null,
       "isJsonSchema": true,
       "metadata": {},
       "overflow": false,
       "plotOptions": {
        "customPlotOptions": {},
        "displayType": "table",
        "pivotAggregation": null,
        "pivotColumns": null,
        "xColumns": null,
        "yColumns": null
       },
       "removedWidgets": [],
       "schema": [
        {
         "metadata": "{}",
         "name": "database",
         "type": "\"string\""
        },
        {
         "metadata": "{}",
         "name": "tableName",
         "type": "\"string\""
        },
        {
         "metadata": "{}",
         "name": "isTemporary",
         "type": "\"boolean\""
        }
       ],
       "type": "table"
      }
     },
     "output_type": "display_data"
    }
   ],
   "source": [
    "# Create or replace the DimRegion table\n",
    "spark.sql(\"\"\"\n",
    "    CREATE OR REPLACE TABLE SalesDWH.DimRegion (\n",
    "        DimRegionKey INT,\n",
    "        RegionID INT,\n",
    "        RegionName STRING,\n",
    "        Country STRING\n",
    "    )\n",
    "\"\"\")\n",
    "\n",
    "# Verify table creation\n",
    "display(spark.sql(\"SHOW TABLES IN SalesDWH\"))"
   ]
  },
  {
   "cell_type": "code",
   "execution_count": 0,
   "metadata": {
    "application/vnd.databricks.v1+cell": {
     "cellMetadata": {
      "byteLimit": 2048000,
      "rowLimit": 10000
     },
     "inputWidgets": {},
     "nuid": "444eddc7-032c-4360-9c00-b6852d3bf805",
     "showTitle": false,
     "tableResultSettingsMap": {},
     "title": ""
    }
   },
   "outputs": [
    {
     "output_type": "display_data",
     "data": {
      "text/html": [
       "<style scoped>\n",
       "  .table-result-container {\n",
       "    max-height: 300px;\n",
       "    overflow: auto;\n",
       "  }\n",
       "  table, th, td {\n",
       "    border: 1px solid black;\n",
       "    border-collapse: collapse;\n",
       "  }\n",
       "  th, td {\n",
       "    padding: 5px;\n",
       "  }\n",
       "  th {\n",
       "    text-align: left;\n",
       "  }\n",
       "</style><div class='table-result-container'><table class='table-result'><thead style='background-color: white'><tr><th>namespace</th><th>viewName</th><th>isTemporary</th><th>isMaterialized</th></tr></thead><tbody><tr><td>salesdwh</td><td>trans_sales</td><td>false</td><td>false</td></tr><tr><td>salesdwh</td><td>view_dimcustomers</td><td>false</td><td>false</td></tr><tr><td>salesdwh</td><td>view_dimproduct</td><td>false</td><td>false</td></tr><tr><td>salesdwh</td><td>view_dimregion</td><td>false</td><td>false</td></tr></tbody></table></div>"
      ]
     },
     "metadata": {
      "application/vnd.databricks.v1+output": {
       "addedWidgets": {},
       "aggData": [],
       "aggError": "",
       "aggOverflow": false,
       "aggSchema": [],
       "aggSeriesLimitReached": false,
       "aggType": "",
       "arguments": {},
       "columnCustomDisplayInfos": {},
       "data": [
        [
         "salesdwh",
         "trans_sales",
         false,
         false
        ],
        [
         "salesdwh",
         "view_dimcustomers",
         false,
         false
        ],
        [
         "salesdwh",
         "view_dimproduct",
         false,
         false
        ],
        [
         "salesdwh",
         "view_dimregion",
         false,
         false
        ]
       ],
       "datasetInfos": [],
       "dbfsResultPath": null,
       "isJsonSchema": true,
       "metadata": {},
       "overflow": false,
       "plotOptions": {
        "customPlotOptions": {},
        "displayType": "table",
        "pivotAggregation": null,
        "pivotColumns": null,
        "xColumns": null,
        "yColumns": null
       },
       "removedWidgets": [],
       "schema": [
        {
         "metadata": "{}",
         "name": "namespace",
         "type": "\"string\""
        },
        {
         "metadata": "{}",
         "name": "viewName",
         "type": "\"string\""
        },
        {
         "metadata": "{}",
         "name": "isTemporary",
         "type": "\"boolean\""
        },
        {
         "metadata": "{}",
         "name": "isMaterialized",
         "type": "\"boolean\""
        }
       ],
       "type": "table"
      }
     },
     "output_type": "display_data"
    }
   ],
   "source": [
    "# Create or replace the view for DimRegion\n",
    "spark.sql(\"\"\"\n",
    "    CREATE OR REPLACE VIEW SalesDWH.view_DimRegion AS\n",
    "    SELECT row_number() OVER (ORDER BY T.RegionID) AS DimRegionKey, T.*\n",
    "    FROM (\n",
    "        SELECT DISTINCT(RegionID) AS RegionID, \n",
    "               RegionName, \n",
    "               Country\n",
    "        FROM SalesDWH.trans_sales\n",
    "    ) AS T\n",
    "\"\"\")\n",
    "\n",
    "# Verify view creation\n",
    "display(spark.sql(\"SHOW VIEWS IN SalesDWH\"))"
   ]
  },
  {
   "cell_type": "code",
   "execution_count": 0,
   "metadata": {
    "application/vnd.databricks.v1+cell": {
     "cellMetadata": {
      "byteLimit": 2048000,
      "rowLimit": 10000
     },
     "inputWidgets": {},
     "nuid": "fc7d8275-3b98-4fa3-a1e3-84b1abff5d3d",
     "showTitle": false,
     "tableResultSettingsMap": {},
     "title": ""
    }
   },
   "outputs": [
    {
     "output_type": "display_data",
     "data": {
      "text/html": [
       "<style scoped>\n",
       "  .table-result-container {\n",
       "    max-height: 300px;\n",
       "    overflow: auto;\n",
       "  }\n",
       "  table, th, td {\n",
       "    border: 1px solid black;\n",
       "    border-collapse: collapse;\n",
       "  }\n",
       "  th, td {\n",
       "    padding: 5px;\n",
       "  }\n",
       "  th {\n",
       "    text-align: left;\n",
       "  }\n",
       "</style><div class='table-result-container'><table class='table-result'><thead style='background-color: white'><tr><th>DimRegionKey</th><th>RegionID</th><th>RegionName</th><th>Country</th></tr></thead><tbody><tr><td>1</td><td>401</td><td>North America</td><td>Canada</td></tr><tr><td>2</td><td>401</td><td>North America</td><td>USA</td></tr><tr><td>3</td><td>402</td><td>Europe</td><td>Germany</td></tr><tr><td>4</td><td>402</td><td>Europe</td><td>UK</td></tr><tr><td>5</td><td>402</td><td>Europe</td><td>France</td></tr><tr><td>6</td><td>403</td><td>Asia</td><td>India</td></tr><tr><td>7</td><td>403</td><td>Asia</td><td>Japan</td></tr><tr><td>8</td><td>403</td><td>Asia</td><td>China</td></tr></tbody></table></div>"
      ]
     },
     "metadata": {
      "application/vnd.databricks.v1+output": {
       "addedWidgets": {},
       "aggData": [],
       "aggError": "",
       "aggOverflow": false,
       "aggSchema": [],
       "aggSeriesLimitReached": false,
       "aggType": "",
       "arguments": {},
       "columnCustomDisplayInfos": {},
       "data": [
        [
         1,
         401,
         "North America",
         "Canada"
        ],
        [
         2,
         401,
         "North America",
         "USA"
        ],
        [
         3,
         402,
         "Europe",
         "Germany"
        ],
        [
         4,
         402,
         "Europe",
         "UK"
        ],
        [
         5,
         402,
         "Europe",
         "France"
        ],
        [
         6,
         403,
         "Asia",
         "India"
        ],
        [
         7,
         403,
         "Asia",
         "Japan"
        ],
        [
         8,
         403,
         "Asia",
         "China"
        ]
       ],
       "datasetInfos": [],
       "dbfsResultPath": null,
       "isJsonSchema": true,
       "metadata": {},
       "overflow": false,
       "plotOptions": {
        "customPlotOptions": {},
        "displayType": "table",
        "pivotAggregation": null,
        "pivotColumns": null,
        "xColumns": null,
        "yColumns": null
       },
       "removedWidgets": [],
       "schema": [
        {
         "metadata": "{}",
         "name": "DimRegionKey",
         "type": "\"integer\""
        },
        {
         "metadata": "{}",
         "name": "RegionID",
         "type": "\"integer\""
        },
        {
         "metadata": "{}",
         "name": "RegionName",
         "type": "\"string\""
        },
        {
         "metadata": "{}",
         "name": "Country",
         "type": "\"string\""
        }
       ],
       "type": "table"
      }
     },
     "output_type": "display_data"
    }
   ],
   "source": [
    "# Insert data into DimRegion from view_DimRegion\n",
    "spark.sql(\"\"\"\n",
    "    INSERT INTO SalesDWH.DimRegion\n",
    "    SELECT * FROM SalesDWH.view_DimRegion\n",
    "\"\"\")\n",
    "\n",
    "# Verify data insertion\n",
    "display(spark.sql(\"SELECT * FROM SalesDWH.DimRegion\"))"
   ]
  },
  {
   "cell_type": "markdown",
   "metadata": {
    "application/vnd.databricks.v1+cell": {
     "cellMetadata": {},
     "inputWidgets": {},
     "nuid": "f78ac98e-2015-4f17-86a2-15f8d0f78d54",
     "showTitle": false,
     "tableResultSettingsMap": {},
     "title": ""
    }
   },
   "source": [
    "### Dim Date\n"
   ]
  },
  {
   "cell_type": "code",
   "execution_count": 0,
   "metadata": {
    "application/vnd.databricks.v1+cell": {
     "cellMetadata": {
      "byteLimit": 2048000,
      "rowLimit": 10000
     },
     "inputWidgets": {},
     "nuid": "fd9c4a7e-cb90-47a7-959b-312f2fd16d6b",
     "showTitle": false,
     "tableResultSettingsMap": {},
     "title": ""
    }
   },
   "outputs": [
    {
     "output_type": "display_data",
     "data": {
      "text/html": [
       "<style scoped>\n",
       "  .table-result-container {\n",
       "    max-height: 300px;\n",
       "    overflow: auto;\n",
       "  }\n",
       "  table, th, td {\n",
       "    border: 1px solid black;\n",
       "    border-collapse: collapse;\n",
       "  }\n",
       "  th, td {\n",
       "    padding: 5px;\n",
       "  }\n",
       "  th {\n",
       "    text-align: left;\n",
       "  }\n",
       "</style><div class='table-result-container'><table class='table-result'><thead style='background-color: white'><tr><th>database</th><th>tableName</th><th>isTemporary</th></tr></thead><tbody><tr><td>salesdwh</td><td>dimcustomers</td><td>false</td></tr><tr><td>salesdwh</td><td>dimdate</td><td>false</td></tr><tr><td>salesdwh</td><td>dimproducts</td><td>false</td></tr><tr><td>salesdwh</td><td>dimregion</td><td>false</td></tr><tr><td>salesdwh</td><td>stg_sales</td><td>false</td></tr><tr><td>salesdwh</td><td>trans_sales</td><td>false</td></tr><tr><td>salesdwh</td><td>view_dimcustomers</td><td>false</td></tr><tr><td>salesdwh</td><td>view_dimproduct</td><td>false</td></tr><tr><td>salesdwh</td><td>view_dimregion</td><td>false</td></tr></tbody></table></div>"
      ]
     },
     "metadata": {
      "application/vnd.databricks.v1+output": {
       "addedWidgets": {},
       "aggData": [],
       "aggError": "",
       "aggOverflow": false,
       "aggSchema": [],
       "aggSeriesLimitReached": false,
       "aggType": "",
       "arguments": {},
       "columnCustomDisplayInfos": {},
       "data": [
        [
         "salesdwh",
         "dimcustomers",
         false
        ],
        [
         "salesdwh",
         "dimdate",
         false
        ],
        [
         "salesdwh",
         "dimproducts",
         false
        ],
        [
         "salesdwh",
         "dimregion",
         false
        ],
        [
         "salesdwh",
         "stg_sales",
         false
        ],
        [
         "salesdwh",
         "trans_sales",
         false
        ],
        [
         "salesdwh",
         "view_dimcustomers",
         false
        ],
        [
         "salesdwh",
         "view_dimproduct",
         false
        ],
        [
         "salesdwh",
         "view_dimregion",
         false
        ]
       ],
       "datasetInfos": [],
       "dbfsResultPath": null,
       "isJsonSchema": true,
       "metadata": {},
       "overflow": false,
       "plotOptions": {
        "customPlotOptions": {},
        "displayType": "table",
        "pivotAggregation": null,
        "pivotColumns": null,
        "xColumns": null,
        "yColumns": null
       },
       "removedWidgets": [],
       "schema": [
        {
         "metadata": "{}",
         "name": "database",
         "type": "\"string\""
        },
        {
         "metadata": "{}",
         "name": "tableName",
         "type": "\"string\""
        },
        {
         "metadata": "{}",
         "name": "isTemporary",
         "type": "\"boolean\""
        }
       ],
       "type": "table"
      }
     },
     "output_type": "display_data"
    }
   ],
   "source": [
    "# Create or replace the DimDate table\n",
    "spark.sql(\"\"\"\n",
    "    CREATE OR REPLACE TABLE SalesDWH.DimDate (\n",
    "        DimDateKey INT,\n",
    "        OrderDate DATE\n",
    "    )\n",
    "\"\"\")\n",
    "\n",
    "# Verify table creation\n",
    "display(spark.sql(\"SHOW TABLES IN SalesDWH\"))\n"
   ]
  },
  {
   "cell_type": "code",
   "execution_count": 0,
   "metadata": {
    "application/vnd.databricks.v1+cell": {
     "cellMetadata": {
      "byteLimit": 2048000,
      "rowLimit": 10000
     },
     "inputWidgets": {},
     "nuid": "f0fced53-8824-4b93-8dad-830432427edb",
     "showTitle": false,
     "tableResultSettingsMap": {},
     "title": ""
    }
   },
   "outputs": [
    {
     "output_type": "display_data",
     "data": {
      "text/html": [
       "<style scoped>\n",
       "  .table-result-container {\n",
       "    max-height: 300px;\n",
       "    overflow: auto;\n",
       "  }\n",
       "  table, th, td {\n",
       "    border: 1px solid black;\n",
       "    border-collapse: collapse;\n",
       "  }\n",
       "  th, td {\n",
       "    padding: 5px;\n",
       "  }\n",
       "  th {\n",
       "    text-align: left;\n",
       "  }\n",
       "</style><div class='table-result-container'><table class='table-result'><thead style='background-color: white'><tr><th>namespace</th><th>viewName</th><th>isTemporary</th><th>isMaterialized</th></tr></thead><tbody><tr><td>salesdwh</td><td>trans_sales</td><td>false</td><td>false</td></tr><tr><td>salesdwh</td><td>view_dimcustomers</td><td>false</td><td>false</td></tr><tr><td>salesdwh</td><td>view_dimproduct</td><td>false</td><td>false</td></tr><tr><td>salesdwh</td><td>view_dimregion</td><td>false</td><td>false</td></tr><tr><td>salesdwh</td><td>view_dimdate</td><td>false</td><td>false</td></tr></tbody></table></div>"
      ]
     },
     "metadata": {
      "application/vnd.databricks.v1+output": {
       "addedWidgets": {},
       "aggData": [],
       "aggError": "",
       "aggOverflow": false,
       "aggSchema": [],
       "aggSeriesLimitReached": false,
       "aggType": "",
       "arguments": {},
       "columnCustomDisplayInfos": {},
       "data": [
        [
         "salesdwh",
         "trans_sales",
         false,
         false
        ],
        [
         "salesdwh",
         "view_dimcustomers",
         false,
         false
        ],
        [
         "salesdwh",
         "view_dimproduct",
         false,
         false
        ],
        [
         "salesdwh",
         "view_dimregion",
         false,
         false
        ],
        [
         "salesdwh",
         "view_dimdate",
         false,
         false
        ]
       ],
       "datasetInfos": [],
       "dbfsResultPath": null,
       "isJsonSchema": true,
       "metadata": {},
       "overflow": false,
       "plotOptions": {
        "customPlotOptions": {},
        "displayType": "table",
        "pivotAggregation": null,
        "pivotColumns": null,
        "xColumns": null,
        "yColumns": null
       },
       "removedWidgets": [],
       "schema": [
        {
         "metadata": "{}",
         "name": "namespace",
         "type": "\"string\""
        },
        {
         "metadata": "{}",
         "name": "viewName",
         "type": "\"string\""
        },
        {
         "metadata": "{}",
         "name": "isTemporary",
         "type": "\"boolean\""
        },
        {
         "metadata": "{}",
         "name": "isMaterialized",
         "type": "\"boolean\""
        }
       ],
       "type": "table"
      }
     },
     "output_type": "display_data"
    }
   ],
   "source": [
    "# Create or replace the view for DimDate\n",
    "spark.sql(\"\"\"\n",
    "    CREATE OR REPLACE VIEW SalesDWH.view_DimDate AS\n",
    "    SELECT row_number() OVER (ORDER BY T.OrderDate) AS DimDateKey, T.*\n",
    "    FROM (\n",
    "        SELECT DISTINCT(OrderDate) AS OrderDate\n",
    "        FROM SalesDWH.trans_sales\n",
    "    ) AS T\n",
    "\"\"\")\n",
    "\n",
    "# Verify view creation\n",
    "display(spark.sql(\"SHOW VIEWS IN SalesDWH\"))"
   ]
  },
  {
   "cell_type": "code",
   "execution_count": 0,
   "metadata": {
    "application/vnd.databricks.v1+cell": {
     "cellMetadata": {
      "byteLimit": 2048000,
      "rowLimit": 10000
     },
     "inputWidgets": {},
     "nuid": "44dbe8cf-bcd7-473a-8ac5-df1a780a7417",
     "showTitle": false,
     "tableResultSettingsMap": {},
     "title": ""
    }
   },
   "outputs": [
    {
     "output_type": "display_data",
     "data": {
      "text/html": [
       "<style scoped>\n",
       "  .table-result-container {\n",
       "    max-height: 300px;\n",
       "    overflow: auto;\n",
       "  }\n",
       "  table, th, td {\n",
       "    border: 1px solid black;\n",
       "    border-collapse: collapse;\n",
       "  }\n",
       "  th, td {\n",
       "    padding: 5px;\n",
       "  }\n",
       "  th {\n",
       "    text-align: left;\n",
       "  }\n",
       "</style><div class='table-result-container'><table class='table-result'><thead style='background-color: white'><tr><th>DimDateKey</th><th>OrderDate</th></tr></thead><tbody><tr><td>1</td><td>2025-03-09</td></tr><tr><td>2</td><td>2025-03-10</td></tr><tr><td>3</td><td>2025-03-11</td></tr><tr><td>4</td><td>2025-03-12</td></tr><tr><td>5</td><td>2025-03-13</td></tr><tr><td>6</td><td>2025-03-14</td></tr><tr><td>7</td><td>2025-03-15</td></tr><tr><td>8</td><td>2025-03-16</td></tr><tr><td>9</td><td>2025-03-17</td></tr><tr><td>10</td><td>2025-03-18</td></tr></tbody></table></div>"
      ]
     },
     "metadata": {
      "application/vnd.databricks.v1+output": {
       "addedWidgets": {},
       "aggData": [],
       "aggError": "",
       "aggOverflow": false,
       "aggSchema": [],
       "aggSeriesLimitReached": false,
       "aggType": "",
       "arguments": {},
       "columnCustomDisplayInfos": {},
       "data": [
        [
         1,
         "2025-03-09"
        ],
        [
         2,
         "2025-03-10"
        ],
        [
         3,
         "2025-03-11"
        ],
        [
         4,
         "2025-03-12"
        ],
        [
         5,
         "2025-03-13"
        ],
        [
         6,
         "2025-03-14"
        ],
        [
         7,
         "2025-03-15"
        ],
        [
         8,
         "2025-03-16"
        ],
        [
         9,
         "2025-03-17"
        ],
        [
         10,
         "2025-03-18"
        ]
       ],
       "datasetInfos": [],
       "dbfsResultPath": null,
       "isJsonSchema": true,
       "metadata": {},
       "overflow": false,
       "plotOptions": {
        "customPlotOptions": {},
        "displayType": "table",
        "pivotAggregation": null,
        "pivotColumns": null,
        "xColumns": null,
        "yColumns": null
       },
       "removedWidgets": [],
       "schema": [
        {
         "metadata": "{}",
         "name": "DimDateKey",
         "type": "\"integer\""
        },
        {
         "metadata": "{}",
         "name": "OrderDate",
         "type": "\"date\""
        }
       ],
       "type": "table"
      }
     },
     "output_type": "display_data"
    }
   ],
   "source": [
    "# Insert data into DimDate table from view_DimDate\n",
    "spark.sql(\"\"\"\n",
    "    INSERT INTO SalesDWH.DimDate\n",
    "    SELECT * FROM SalesDWH.view_DimDate\n",
    "\"\"\")\n",
    "\n",
    "# Verify data insertion\n",
    "display(spark.sql(\"SELECT DISTINCT(*) FROM SalesDWH.DimDate ORDER BY OrderDate\"))"
   ]
  },
  {
   "cell_type": "markdown",
   "metadata": {
    "application/vnd.databricks.v1+cell": {
     "cellMetadata": {},
     "inputWidgets": {},
     "nuid": "c1f9198a-1ffe-4aff-b792-07785fee2da9",
     "showTitle": false,
     "tableResultSettingsMap": {},
     "title": ""
    }
   },
   "source": [
    "### FACT Table\n"
   ]
  },
  {
   "cell_type": "code",
   "execution_count": 0,
   "metadata": {
    "application/vnd.databricks.v1+cell": {
     "cellMetadata": {
      "byteLimit": 2048000,
      "rowLimit": 10000
     },
     "inputWidgets": {},
     "nuid": "446b4f77-e208-4408-b259-9ce1a2170472",
     "showTitle": false,
     "tableResultSettingsMap": {},
     "title": ""
    }
   },
   "outputs": [
    {
     "output_type": "display_data",
     "data": {
      "text/html": [
       "<style scoped>\n",
       "  .table-result-container {\n",
       "    max-height: 300px;\n",
       "    overflow: auto;\n",
       "  }\n",
       "  table, th, td {\n",
       "    border: 1px solid black;\n",
       "    border-collapse: collapse;\n",
       "  }\n",
       "  th, td {\n",
       "    padding: 5px;\n",
       "  }\n",
       "  th {\n",
       "    text-align: left;\n",
       "  }\n",
       "</style><div class='table-result-container'><table class='table-result'><thead style='background-color: white'><tr><th>database</th><th>tableName</th><th>isTemporary</th></tr></thead><tbody><tr><td>salesdwh</td><td>dimcustomers</td><td>false</td></tr><tr><td>salesdwh</td><td>dimdate</td><td>false</td></tr><tr><td>salesdwh</td><td>dimproducts</td><td>false</td></tr><tr><td>salesdwh</td><td>dimregion</td><td>false</td></tr><tr><td>salesdwh</td><td>factsales</td><td>false</td></tr><tr><td>salesdwh</td><td>stg_sales</td><td>false</td></tr><tr><td>salesdwh</td><td>trans_sales</td><td>false</td></tr><tr><td>salesdwh</td><td>view_dimcustomers</td><td>false</td></tr><tr><td>salesdwh</td><td>view_dimdate</td><td>false</td></tr><tr><td>salesdwh</td><td>view_dimproduct</td><td>false</td></tr><tr><td>salesdwh</td><td>view_dimregion</td><td>false</td></tr></tbody></table></div>"
      ]
     },
     "metadata": {
      "application/vnd.databricks.v1+output": {
       "addedWidgets": {},
       "aggData": [],
       "aggError": "",
       "aggOverflow": false,
       "aggSchema": [],
       "aggSeriesLimitReached": false,
       "aggType": "",
       "arguments": {},
       "columnCustomDisplayInfos": {},
       "data": [
        [
         "salesdwh",
         "dimcustomers",
         false
        ],
        [
         "salesdwh",
         "dimdate",
         false
        ],
        [
         "salesdwh",
         "dimproducts",
         false
        ],
        [
         "salesdwh",
         "dimregion",
         false
        ],
        [
         "salesdwh",
         "factsales",
         false
        ],
        [
         "salesdwh",
         "stg_sales",
         false
        ],
        [
         "salesdwh",
         "trans_sales",
         false
        ],
        [
         "salesdwh",
         "view_dimcustomers",
         false
        ],
        [
         "salesdwh",
         "view_dimdate",
         false
        ],
        [
         "salesdwh",
         "view_dimproduct",
         false
        ],
        [
         "salesdwh",
         "view_dimregion",
         false
        ]
       ],
       "datasetInfos": [],
       "dbfsResultPath": null,
       "isJsonSchema": true,
       "metadata": {},
       "overflow": false,
       "plotOptions": {
        "customPlotOptions": {},
        "displayType": "table",
        "pivotAggregation": null,
        "pivotColumns": null,
        "xColumns": null,
        "yColumns": null
       },
       "removedWidgets": [],
       "schema": [
        {
         "metadata": "{}",
         "name": "database",
         "type": "\"string\""
        },
        {
         "metadata": "{}",
         "name": "tableName",
         "type": "\"string\""
        },
        {
         "metadata": "{}",
         "name": "isTemporary",
         "type": "\"boolean\""
        }
       ],
       "type": "table"
      }
     },
     "output_type": "display_data"
    }
   ],
   "source": [
    "# Create FactSales table\n",
    "spark.sql(\"\"\"\n",
    "    CREATE TABLE SalesDWH.FactSales (\n",
    "        OrderID INT,\n",
    "        Quantity DECIMAL(10,2),\n",
    "        UnitPrice DECIMAL(10,2),\n",
    "        TotalAmount DECIMAL(10,2),\n",
    "        DimProductKey INT,\n",
    "        DimDateKey INT,\n",
    "        DimRegionKey INT,\n",
    "        DimCustomerKey INT\n",
    "    )\n",
    "\"\"\")\n",
    "\n",
    "# Verify table creation\n",
    "display(spark.sql(\"SHOW TABLES IN SalesDWH\"))"
   ]
  },
  {
   "cell_type": "code",
   "execution_count": 0,
   "metadata": {
    "application/vnd.databricks.v1+cell": {
     "cellMetadata": {
      "byteLimit": 2048000,
      "rowLimit": 10000
     },
     "inputWidgets": {},
     "nuid": "8193b8cd-5576-4aaa-b884-dd06a89f5502",
     "showTitle": false,
     "tableResultSettingsMap": {},
     "title": ""
    }
   },
   "outputs": [
    {
     "output_type": "display_data",
     "data": {
      "text/html": [
       "<style scoped>\n",
       "  .table-result-container {\n",
       "    max-height: 300px;\n",
       "    overflow: auto;\n",
       "  }\n",
       "  table, th, td {\n",
       "    border: 1px solid black;\n",
       "    border-collapse: collapse;\n",
       "  }\n",
       "  th, td {\n",
       "    padding: 5px;\n",
       "  }\n",
       "  th {\n",
       "    text-align: left;\n",
       "  }\n",
       "</style><div class='table-result-container'><table class='table-result'><thead style='background-color: white'><tr><th>OrderID</th><th>Quantity</th><th>UnitPrice</th><th>TotalAmount</th><th>DimCustomersKey</th><th>DimProductKey</th><th>DimDateKey</th><th>DimRegionKey</th></tr></thead><tbody><tr><td>11</td><td>1</td><td>150.00</td><td>150.00</td><td>3</td><td>3</td><td>3</td><td>3</td></tr><tr><td>11</td><td>1</td><td>150.00</td><td>150.00</td><td>3</td><td>3</td><td>3</td><td>3</td></tr><tr><td>11</td><td>1</td><td>150.00</td><td>150.00</td><td>3</td><td>3</td><td>3</td><td>3</td></tr><tr><td>11</td><td>1</td><td>150.00</td><td>150.00</td><td>3</td><td>3</td><td>3</td><td>3</td></tr><tr><td>12</td><td>2</td><td>120.00</td><td>240.00</td><td>4</td><td>4</td><td>4</td><td>6</td></tr><tr><td>12</td><td>2</td><td>120.00</td><td>240.00</td><td>4</td><td>4</td><td>4</td><td>6</td></tr><tr><td>12</td><td>2</td><td>120.00</td><td>240.00</td><td>4</td><td>4</td><td>4</td><td>6</td></tr><tr><td>12</td><td>2</td><td>120.00</td><td>240.00</td><td>4</td><td>4</td><td>4</td><td>6</td></tr><tr><td>13</td><td>1</td><td>700.00</td><td>700.00</td><td>5</td><td>5</td><td>5</td><td>1</td></tr><tr><td>13</td><td>1</td><td>700.00</td><td>700.00</td><td>5</td><td>5</td><td>5</td><td>1</td></tr><tr><td>13</td><td>1</td><td>700.00</td><td>700.00</td><td>5</td><td>5</td><td>5</td><td>1</td></tr><tr><td>13</td><td>1</td><td>700.00</td><td>700.00</td><td>5</td><td>5</td><td>5</td><td>1</td></tr><tr><td>11</td><td>1</td><td>150.00</td><td>150.00</td><td>3</td><td>3</td><td>3</td><td>3</td></tr><tr><td>11</td><td>1</td><td>150.00</td><td>150.00</td><td>3</td><td>3</td><td>3</td><td>3</td></tr><tr><td>11</td><td>1</td><td>150.00</td><td>150.00</td><td>3</td><td>3</td><td>3</td><td>3</td></tr><tr><td>11</td><td>1</td><td>150.00</td><td>150.00</td><td>3</td><td>3</td><td>3</td><td>3</td></tr><tr><td>12</td><td>2</td><td>120.00</td><td>240.00</td><td>4</td><td>4</td><td>4</td><td>6</td></tr><tr><td>12</td><td>2</td><td>120.00</td><td>240.00</td><td>4</td><td>4</td><td>4</td><td>6</td></tr><tr><td>12</td><td>2</td><td>120.00</td><td>240.00</td><td>4</td><td>4</td><td>4</td><td>6</td></tr><tr><td>12</td><td>2</td><td>120.00</td><td>240.00</td><td>4</td><td>4</td><td>4</td><td>6</td></tr><tr><td>13</td><td>1</td><td>700.00</td><td>700.00</td><td>5</td><td>5</td><td>5</td><td>1</td></tr><tr><td>13</td><td>1</td><td>700.00</td><td>700.00</td><td>5</td><td>5</td><td>5</td><td>1</td></tr><tr><td>13</td><td>1</td><td>700.00</td><td>700.00</td><td>5</td><td>5</td><td>5</td><td>1</td></tr><tr><td>13</td><td>1</td><td>700.00</td><td>700.00</td><td>5</td><td>5</td><td>5</td><td>1</td></tr><tr><td>16</td><td>5</td><td>20.00</td><td>100.00</td><td>8</td><td>8</td><td>8</td><td>2</td></tr><tr><td>16</td><td>5</td><td>20.00</td><td>100.00</td><td>8</td><td>8</td><td>8</td><td>2</td></tr><tr><td>16</td><td>5</td><td>20.00</td><td>100.00</td><td>8</td><td>8</td><td>8</td><td>2</td></tr><tr><td>16</td><td>5</td><td>20.00</td><td>100.00</td><td>8</td><td>8</td><td>8</td><td>2</td></tr><tr><td>17</td><td>1</td><td>400.00</td><td>400.00</td><td>9</td><td>9</td><td>9</td><td>4</td></tr><tr><td>17</td><td>1</td><td>400.00</td><td>400.00</td><td>9</td><td>9</td><td>9</td><td>4</td></tr><tr><td>17</td><td>1</td><td>400.00</td><td>400.00</td><td>9</td><td>9</td><td>9</td><td>4</td></tr><tr><td>17</td><td>1</td><td>400.00</td><td>400.00</td><td>9</td><td>9</td><td>9</td><td>4</td></tr><tr><td>18</td><td>2</td><td>150.00</td><td>300.00</td><td>10</td><td>10</td><td>10</td><td>7</td></tr><tr><td>18</td><td>2</td><td>150.00</td><td>300.00</td><td>10</td><td>10</td><td>10</td><td>7</td></tr><tr><td>18</td><td>2</td><td>150.00</td><td>300.00</td><td>10</td><td>10</td><td>10</td><td>7</td></tr><tr><td>18</td><td>2</td><td>150.00</td><td>300.00</td><td>10</td><td>10</td><td>10</td><td>7</td></tr><tr><td>16</td><td>5</td><td>20.00</td><td>100.00</td><td>8</td><td>8</td><td>8</td><td>2</td></tr><tr><td>16</td><td>5</td><td>20.00</td><td>100.00</td><td>8</td><td>8</td><td>8</td><td>2</td></tr><tr><td>16</td><td>5</td><td>20.00</td><td>100.00</td><td>8</td><td>8</td><td>8</td><td>2</td></tr><tr><td>16</td><td>5</td><td>20.00</td><td>100.00</td><td>8</td><td>8</td><td>8</td><td>2</td></tr><tr><td>17</td><td>1</td><td>400.00</td><td>400.00</td><td>9</td><td>9</td><td>9</td><td>4</td></tr><tr><td>17</td><td>1</td><td>400.00</td><td>400.00</td><td>9</td><td>9</td><td>9</td><td>4</td></tr><tr><td>17</td><td>1</td><td>400.00</td><td>400.00</td><td>9</td><td>9</td><td>9</td><td>4</td></tr><tr><td>17</td><td>1</td><td>400.00</td><td>400.00</td><td>9</td><td>9</td><td>9</td><td>4</td></tr><tr><td>18</td><td>2</td><td>150.00</td><td>300.00</td><td>10</td><td>10</td><td>10</td><td>7</td></tr><tr><td>18</td><td>2</td><td>150.00</td><td>300.00</td><td>10</td><td>10</td><td>10</td><td>7</td></tr><tr><td>18</td><td>2</td><td>150.00</td><td>300.00</td><td>10</td><td>10</td><td>10</td><td>7</td></tr><tr><td>18</td><td>2</td><td>150.00</td><td>300.00</td><td>10</td><td>10</td><td>10</td><td>7</td></tr><tr><td>9</td><td>2</td><td>50.00</td><td>100.00</td><td>1</td><td>1</td><td>1</td><td>7</td></tr><tr><td>9</td><td>2</td><td>50.00</td><td>100.00</td><td>1</td><td>1</td><td>1</td><td>7</td></tr><tr><td>9</td><td>2</td><td>50.00</td><td>100.00</td><td>1</td><td>1</td><td>1</td><td>7</td></tr><tr><td>9</td><td>2</td><td>50.00</td><td>100.00</td><td>1</td><td>1</td><td>1</td><td>7</td></tr><tr><td>10</td><td>1</td><td>40.00</td><td>40.00</td><td>2</td><td>2</td><td>2</td><td>2</td></tr><tr><td>10</td><td>1</td><td>40.00</td><td>40.00</td><td>2</td><td>2</td><td>2</td><td>2</td></tr><tr><td>10</td><td>1</td><td>40.00</td><td>40.00</td><td>2</td><td>2</td><td>2</td><td>2</td></tr><tr><td>10</td><td>1</td><td>40.00</td><td>40.00</td><td>2</td><td>2</td><td>2</td><td>2</td></tr><tr><td>9</td><td>2</td><td>50.00</td><td>100.00</td><td>1</td><td>1</td><td>1</td><td>7</td></tr><tr><td>9</td><td>2</td><td>50.00</td><td>100.00</td><td>1</td><td>1</td><td>1</td><td>7</td></tr><tr><td>9</td><td>2</td><td>50.00</td><td>100.00</td><td>1</td><td>1</td><td>1</td><td>7</td></tr><tr><td>9</td><td>2</td><td>50.00</td><td>100.00</td><td>1</td><td>1</td><td>1</td><td>7</td></tr><tr><td>10</td><td>1</td><td>40.00</td><td>40.00</td><td>2</td><td>2</td><td>2</td><td>2</td></tr><tr><td>10</td><td>1</td><td>40.00</td><td>40.00</td><td>2</td><td>2</td><td>2</td><td>2</td></tr><tr><td>10</td><td>1</td><td>40.00</td><td>40.00</td><td>2</td><td>2</td><td>2</td><td>2</td></tr><tr><td>10</td><td>1</td><td>40.00</td><td>40.00</td><td>2</td><td>2</td><td>2</td><td>2</td></tr><tr><td>14</td><td>1</td><td>80.00</td><td>80.00</td><td>6</td><td>6</td><td>6</td><td>5</td></tr><tr><td>14</td><td>1</td><td>80.00</td><td>80.00</td><td>6</td><td>6</td><td>6</td><td>5</td></tr><tr><td>14</td><td>1</td><td>80.00</td><td>80.00</td><td>6</td><td>6</td><td>6</td><td>5</td></tr><tr><td>14</td><td>1</td><td>80.00</td><td>80.00</td><td>6</td><td>6</td><td>6</td><td>5</td></tr><tr><td>15</td><td>2</td><td>90.00</td><td>180.00</td><td>7</td><td>7</td><td>7</td><td>8</td></tr><tr><td>15</td><td>2</td><td>90.00</td><td>180.00</td><td>7</td><td>7</td><td>7</td><td>8</td></tr><tr><td>15</td><td>2</td><td>90.00</td><td>180.00</td><td>7</td><td>7</td><td>7</td><td>8</td></tr><tr><td>15</td><td>2</td><td>90.00</td><td>180.00</td><td>7</td><td>7</td><td>7</td><td>8</td></tr><tr><td>14</td><td>1</td><td>80.00</td><td>80.00</td><td>6</td><td>6</td><td>6</td><td>5</td></tr><tr><td>14</td><td>1</td><td>80.00</td><td>80.00</td><td>6</td><td>6</td><td>6</td><td>5</td></tr><tr><td>14</td><td>1</td><td>80.00</td><td>80.00</td><td>6</td><td>6</td><td>6</td><td>5</td></tr><tr><td>14</td><td>1</td><td>80.00</td><td>80.00</td><td>6</td><td>6</td><td>6</td><td>5</td></tr><tr><td>15</td><td>2</td><td>90.00</td><td>180.00</td><td>7</td><td>7</td><td>7</td><td>8</td></tr><tr><td>15</td><td>2</td><td>90.00</td><td>180.00</td><td>7</td><td>7</td><td>7</td><td>8</td></tr><tr><td>15</td><td>2</td><td>90.00</td><td>180.00</td><td>7</td><td>7</td><td>7</td><td>8</td></tr><tr><td>15</td><td>2</td><td>90.00</td><td>180.00</td><td>7</td><td>7</td><td>7</td><td>8</td></tr></tbody></table></div>"
      ]
     },
     "metadata": {
      "application/vnd.databricks.v1+output": {
       "addedWidgets": {},
       "aggData": [],
       "aggError": "",
       "aggOverflow": false,
       "aggSchema": [],
       "aggSeriesLimitReached": false,
       "aggType": "",
       "arguments": {},
       "columnCustomDisplayInfos": {},
       "data": [
        [
         11,
         1,
         "150.00",
         "150.00",
         3,
         3,
         3,
         3
        ],
        [
         11,
         1,
         "150.00",
         "150.00",
         3,
         3,
         3,
         3
        ],
        [
         11,
         1,
         "150.00",
         "150.00",
         3,
         3,
         3,
         3
        ],
        [
         11,
         1,
         "150.00",
         "150.00",
         3,
         3,
         3,
         3
        ],
        [
         12,
         2,
         "120.00",
         "240.00",
         4,
         4,
         4,
         6
        ],
        [
         12,
         2,
         "120.00",
         "240.00",
         4,
         4,
         4,
         6
        ],
        [
         12,
         2,
         "120.00",
         "240.00",
         4,
         4,
         4,
         6
        ],
        [
         12,
         2,
         "120.00",
         "240.00",
         4,
         4,
         4,
         6
        ],
        [
         13,
         1,
         "700.00",
         "700.00",
         5,
         5,
         5,
         1
        ],
        [
         13,
         1,
         "700.00",
         "700.00",
         5,
         5,
         5,
         1
        ],
        [
         13,
         1,
         "700.00",
         "700.00",
         5,
         5,
         5,
         1
        ],
        [
         13,
         1,
         "700.00",
         "700.00",
         5,
         5,
         5,
         1
        ],
        [
         11,
         1,
         "150.00",
         "150.00",
         3,
         3,
         3,
         3
        ],
        [
         11,
         1,
         "150.00",
         "150.00",
         3,
         3,
         3,
         3
        ],
        [
         11,
         1,
         "150.00",
         "150.00",
         3,
         3,
         3,
         3
        ],
        [
         11,
         1,
         "150.00",
         "150.00",
         3,
         3,
         3,
         3
        ],
        [
         12,
         2,
         "120.00",
         "240.00",
         4,
         4,
         4,
         6
        ],
        [
         12,
         2,
         "120.00",
         "240.00",
         4,
         4,
         4,
         6
        ],
        [
         12,
         2,
         "120.00",
         "240.00",
         4,
         4,
         4,
         6
        ],
        [
         12,
         2,
         "120.00",
         "240.00",
         4,
         4,
         4,
         6
        ],
        [
         13,
         1,
         "700.00",
         "700.00",
         5,
         5,
         5,
         1
        ],
        [
         13,
         1,
         "700.00",
         "700.00",
         5,
         5,
         5,
         1
        ],
        [
         13,
         1,
         "700.00",
         "700.00",
         5,
         5,
         5,
         1
        ],
        [
         13,
         1,
         "700.00",
         "700.00",
         5,
         5,
         5,
         1
        ],
        [
         16,
         5,
         "20.00",
         "100.00",
         8,
         8,
         8,
         2
        ],
        [
         16,
         5,
         "20.00",
         "100.00",
         8,
         8,
         8,
         2
        ],
        [
         16,
         5,
         "20.00",
         "100.00",
         8,
         8,
         8,
         2
        ],
        [
         16,
         5,
         "20.00",
         "100.00",
         8,
         8,
         8,
         2
        ],
        [
         17,
         1,
         "400.00",
         "400.00",
         9,
         9,
         9,
         4
        ],
        [
         17,
         1,
         "400.00",
         "400.00",
         9,
         9,
         9,
         4
        ],
        [
         17,
         1,
         "400.00",
         "400.00",
         9,
         9,
         9,
         4
        ],
        [
         17,
         1,
         "400.00",
         "400.00",
         9,
         9,
         9,
         4
        ],
        [
         18,
         2,
         "150.00",
         "300.00",
         10,
         10,
         10,
         7
        ],
        [
         18,
         2,
         "150.00",
         "300.00",
         10,
         10,
         10,
         7
        ],
        [
         18,
         2,
         "150.00",
         "300.00",
         10,
         10,
         10,
         7
        ],
        [
         18,
         2,
         "150.00",
         "300.00",
         10,
         10,
         10,
         7
        ],
        [
         16,
         5,
         "20.00",
         "100.00",
         8,
         8,
         8,
         2
        ],
        [
         16,
         5,
         "20.00",
         "100.00",
         8,
         8,
         8,
         2
        ],
        [
         16,
         5,
         "20.00",
         "100.00",
         8,
         8,
         8,
         2
        ],
        [
         16,
         5,
         "20.00",
         "100.00",
         8,
         8,
         8,
         2
        ],
        [
         17,
         1,
         "400.00",
         "400.00",
         9,
         9,
         9,
         4
        ],
        [
         17,
         1,
         "400.00",
         "400.00",
         9,
         9,
         9,
         4
        ],
        [
         17,
         1,
         "400.00",
         "400.00",
         9,
         9,
         9,
         4
        ],
        [
         17,
         1,
         "400.00",
         "400.00",
         9,
         9,
         9,
         4
        ],
        [
         18,
         2,
         "150.00",
         "300.00",
         10,
         10,
         10,
         7
        ],
        [
         18,
         2,
         "150.00",
         "300.00",
         10,
         10,
         10,
         7
        ],
        [
         18,
         2,
         "150.00",
         "300.00",
         10,
         10,
         10,
         7
        ],
        [
         18,
         2,
         "150.00",
         "300.00",
         10,
         10,
         10,
         7
        ],
        [
         9,
         2,
         "50.00",
         "100.00",
         1,
         1,
         1,
         7
        ],
        [
         9,
         2,
         "50.00",
         "100.00",
         1,
         1,
         1,
         7
        ],
        [
         9,
         2,
         "50.00",
         "100.00",
         1,
         1,
         1,
         7
        ],
        [
         9,
         2,
         "50.00",
         "100.00",
         1,
         1,
         1,
         7
        ],
        [
         10,
         1,
         "40.00",
         "40.00",
         2,
         2,
         2,
         2
        ],
        [
         10,
         1,
         "40.00",
         "40.00",
         2,
         2,
         2,
         2
        ],
        [
         10,
         1,
         "40.00",
         "40.00",
         2,
         2,
         2,
         2
        ],
        [
         10,
         1,
         "40.00",
         "40.00",
         2,
         2,
         2,
         2
        ],
        [
         9,
         2,
         "50.00",
         "100.00",
         1,
         1,
         1,
         7
        ],
        [
         9,
         2,
         "50.00",
         "100.00",
         1,
         1,
         1,
         7
        ],
        [
         9,
         2,
         "50.00",
         "100.00",
         1,
         1,
         1,
         7
        ],
        [
         9,
         2,
         "50.00",
         "100.00",
         1,
         1,
         1,
         7
        ],
        [
         10,
         1,
         "40.00",
         "40.00",
         2,
         2,
         2,
         2
        ],
        [
         10,
         1,
         "40.00",
         "40.00",
         2,
         2,
         2,
         2
        ],
        [
         10,
         1,
         "40.00",
         "40.00",
         2,
         2,
         2,
         2
        ],
        [
         10,
         1,
         "40.00",
         "40.00",
         2,
         2,
         2,
         2
        ],
        [
         14,
         1,
         "80.00",
         "80.00",
         6,
         6,
         6,
         5
        ],
        [
         14,
         1,
         "80.00",
         "80.00",
         6,
         6,
         6,
         5
        ],
        [
         14,
         1,
         "80.00",
         "80.00",
         6,
         6,
         6,
         5
        ],
        [
         14,
         1,
         "80.00",
         "80.00",
         6,
         6,
         6,
         5
        ],
        [
         15,
         2,
         "90.00",
         "180.00",
         7,
         7,
         7,
         8
        ],
        [
         15,
         2,
         "90.00",
         "180.00",
         7,
         7,
         7,
         8
        ],
        [
         15,
         2,
         "90.00",
         "180.00",
         7,
         7,
         7,
         8
        ],
        [
         15,
         2,
         "90.00",
         "180.00",
         7,
         7,
         7,
         8
        ],
        [
         14,
         1,
         "80.00",
         "80.00",
         6,
         6,
         6,
         5
        ],
        [
         14,
         1,
         "80.00",
         "80.00",
         6,
         6,
         6,
         5
        ],
        [
         14,
         1,
         "80.00",
         "80.00",
         6,
         6,
         6,
         5
        ],
        [
         14,
         1,
         "80.00",
         "80.00",
         6,
         6,
         6,
         5
        ],
        [
         15,
         2,
         "90.00",
         "180.00",
         7,
         7,
         7,
         8
        ],
        [
         15,
         2,
         "90.00",
         "180.00",
         7,
         7,
         7,
         8
        ],
        [
         15,
         2,
         "90.00",
         "180.00",
         7,
         7,
         7,
         8
        ],
        [
         15,
         2,
         "90.00",
         "180.00",
         7,
         7,
         7,
         8
        ]
       ],
       "datasetInfos": [],
       "dbfsResultPath": null,
       "isJsonSchema": true,
       "metadata": {},
       "overflow": false,
       "plotOptions": {
        "customPlotOptions": {},
        "displayType": "table",
        "pivotAggregation": null,
        "pivotColumns": null,
        "xColumns": null,
        "yColumns": null
       },
       "removedWidgets": [],
       "schema": [
        {
         "metadata": "{}",
         "name": "OrderID",
         "type": "\"integer\""
        },
        {
         "metadata": "{}",
         "name": "Quantity",
         "type": "\"integer\""
        },
        {
         "metadata": "{}",
         "name": "UnitPrice",
         "type": "\"decimal(10,2)\""
        },
        {
         "metadata": "{}",
         "name": "TotalAmount",
         "type": "\"decimal(10,2)\""
        },
        {
         "metadata": "{}",
         "name": "DimCustomersKey",
         "type": "\"integer\""
        },
        {
         "metadata": "{}",
         "name": "DimProductKey",
         "type": "\"integer\""
        },
        {
         "metadata": "{}",
         "name": "DimDateKey",
         "type": "\"integer\""
        },
        {
         "metadata": "{}",
         "name": "DimRegionKey",
         "type": "\"integer\""
        }
       ],
       "type": "table"
      }
     },
     "output_type": "display_data"
    }
   ],
   "source": [
    "# Join FactSales with dimension tables\n",
    "fact_sales_query = \"\"\"\n",
    "    SELECT \n",
    "        F.OrderID,\n",
    "        F.Quantity,\n",
    "        F.UnitPrice,\n",
    "        F.TotalAmount,\n",
    "        DC.DimCustomersKey,\n",
    "        DP.DimProductKey,\n",
    "        DD.DimDateKey,\n",
    "        DR.DimRegionKey\n",
    "    FROM SalesDWH.trans_sales F\n",
    "    LEFT JOIN SalesDWH.DimCustomers DC ON F.CustomerID = DC.CustomerID\n",
    "    LEFT JOIN SalesDWH.DimProducts DP ON F.ProductID = DP.ProductID\n",
    "    LEFT JOIN SalesDWH.DimDate DD ON F.OrderDate = DD.OrderDate\n",
    "    LEFT JOIN SalesDWH.DimRegion DR ON F.Country = DR.Country\n",
    "\"\"\"\n",
    "\n",
    "# Execute query and display result\n",
    "display(spark.sql(fact_sales_query))"
   ]
  }
 ],
 "metadata": {
  "application/vnd.databricks.v1+notebook": {
   "computePreferences": null,
   "dashboards": [],
   "environmentMetadata": {
    "base_environment": "",
    "client": "1"
   },
   "language": "python",
   "notebookMetadata": {
    "mostRecentlyExecutedCommandWithImplicitDF": {
     "commandId": -1,
     "dataframes": [
      "_sqldf"
     ]
    },
    "pythonIndentUnit": 4
   },
   "notebookName": "Data Warehouse from scratch Spark",
   "widgets": {}
  }
 },
 "nbformat": 4,
 "nbformat_minor": 0
}
